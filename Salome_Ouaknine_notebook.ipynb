{
 "cells": [
  {
   "attachments": {},
   "cell_type": "markdown",
   "metadata": {},
   "source": [
    "# Hyperplastic polyp, sessile serrated lesion, and colon adenocarcinoma : an overview of public health data analyses and image analyses  "
   ]
  },
  {
   "attachments": {},
   "cell_type": "markdown",
   "metadata": {},
   "source": [
    "Colon adenocarcinoma is the most common colon cancer (solid epithelial tumor). It is a world public health issue : is the third most common cancer in men and women worldwide. (Source, WHO, 2020) \n",
    "\n",
    "Regular screenings, such as colonoscopies, can help detect colon adenocarcinoma in its early stages and pre-cancerous structures called polyps. \n",
    "The polyps are classified in three categories: **adenomatous polyps** that can sometimes change into cancer, **hyperplastic polyps (HP)** which  are not pre-cancerous in general, **sessile serrated adenomas (SSA)** which are often treated like adenomas because they have a higher risk of colorectal cancer.\n",
    "\n",
    "The polyps classification is based on their size, their abundance and their histological appearance. The classification between hyperplastic polyps and sessile serrated lesions is complicated in practicals. \n",
    "(Source : American Cancer Society. Colorectal Cancer Facts & Figures 2020-2022. Atlanta, Ga: American Cancer Society; 2020.).\n",
    "\n",
    "This notebooks regroups public health data (part I), but also a machine learning classification model to try to separate HP and SSL (part II), and an image analysis proposition to automatize mitotic count (part III) which is an important prognosis factor in adenocarcinomas.  "
   ]
  },
  {
   "cell_type": "code",
   "execution_count": 8,
   "metadata": {},
   "outputs": [],
   "source": [
    "general_path = \"/Users/salomeouaknine/Documents/ENS_3A/cours_M2/advanced_data_analysis/\"\n",
    "### to change with your directory path "
   ]
  },
  {
   "attachments": {},
   "cell_type": "markdown",
   "metadata": {},
   "source": [
    "##  Part I : Public health on colon adenocarcinoma"
   ]
  },
  {
   "attachments": {},
   "cell_type": "markdown",
   "metadata": {},
   "source": [
    "This part is about public health on colon adenocarcinoma. \n",
    "The incidence and the mortality due to colon adenocarcinoma per country are represented on interactive maps. Do not hesistate to click on the countries to have more precisions about the countries' incidence or mortality precise rates."
   ]
  },
  {
   "cell_type": "code",
   "execution_count": 5,
   "metadata": {},
   "outputs": [],
   "source": [
    "#packages\n",
    "import pandas as pd\n",
    "import plotly.express as px\n",
    "import statsmodels.api as sm\n",
    "import os"
   ]
  },
  {
   "cell_type": "code",
   "execution_count": 4,
   "metadata": {},
   "outputs": [],
   "source": [
    "#functions \n",
    "def world_map(data_path,value_name,loc_name,title,color):\n",
    "    ''' \n",
    "    Plot a parameter value per country on an interactive map\n",
    "    input:\n",
    "        - data_path (string): path to the .csv dataframe containing values of the parameter per country\n",
    "        - value_name (string): name of the parameter we want to plot\n",
    "        - loc_name (string): how the countries are notated (ISO convention (3 letters) is needed for plotly)\n",
    "        - title (string): title of the plot\n",
    "        -color (string): name of the color scale used\n",
    "    '''\n",
    "    df=pd.read_csv(data_path, encoding=\"ISO-8859-1\",index_col=False) #index_col is needed to keep countries ISO name\n",
    "    df.rename(columns={\"Value\":value_name},inplace=True)\n",
    "    df.reset_index() \n",
    "    fig=px.choropleth(df,\n",
    "                     locations=loc_name,\n",
    "                     color=value_name, \n",
    "                     color_continuous_scale=color,\n",
    "                     title=title)\n",
    "    fig.show()\n",
    "\n",
    "\n",
    "\n",
    "def incidence_vs_HDI_plot(data_path,title):\n",
    "    \"\"\"\" \n",
    "    Plot an interactive scatter plot of the Incidence inside a country depending on its Human Developement Index.\n",
    "    The Human Development Index (HDI) is a summary measure of average achievement in \n",
    "    key dimensions of human development: a long and healthy life, being knowledgeable and have a decent standard of living. \n",
    "    The HDI is the geometric mean of normalized indices for each of the three dimensions. \n",
    "    (Source : United Nations development programme, Human Developement Reports, 2020)\n",
    "    Input : \n",
    "        - data_path (string) : path to the .csv dataframe containing values of the parameter per country\n",
    "        - title (string)\n",
    "    \"\"\"\n",
    "    df=pd.read_csv(data_path,encoding = \"ISO-8859-1\", index_col=False) #index_col is needed to keep countries ISO name\n",
    "    df=df[df['Human Development Index'] < 1]\n",
    "    fig=px.scatter(df, y='Incidence', \n",
    "                     x='Human Development Index',\n",
    "                    hover_data=['Population'], #puts inside the marker the name of the country on the interactive plot\n",
    "                    trendline=\"ols\", #add a linear regression model \n",
    "                    trendline_color_override=\"black\",\n",
    "                    title=title)\n",
    "    #Chose to plot the Country in different color because it is an interactive plot\n",
    "    #Thus, by putting the mouse on the dot, it gives us the Coutry, the colorectal cancer incidence and its HDI\n",
    "    fig.show()"
   ]
  },
  {
   "cell_type": "code",
   "execution_count": 14,
   "metadata": {},
   "outputs": [],
   "source": [
    "#datas\n",
    "#for maps\n",
    "data_path_incidence= os.path.join(general_path, 'dataset_publi_health/data_crcancer_incidence.csv')\n",
    "incidence=\"Incidence per 100 000\"\n",
    "data_path_mortality= os.path.join(general_path, 'dataset_publi_health/data_crcancer_mortality.csv')\n",
    "mortality=\"Mortality per 100 000\"\n",
    "\n",
    "loc_name=\"ISO code\"\n",
    "\n",
    "#for incidence depending on human development index\n",
    "data_path_incidence_HDI= os.path.join(general_path, 'dataset_publi_health/data_cancer_incidence_IDE.csv')\n"
   ]
  },
  {
   "cell_type": "code",
   "execution_count": 15,
   "metadata": {},
   "outputs": [
    {
     "data": {
      "application/vnd.plotly.v1+json": {
       "config": {
        "plotlyServerURL": "https://plot.ly"
       },
       "data": [
        {
         "coloraxis": "coloraxis",
         "geo": "geo",
         "hovertemplate": "ISO code=%{location}<br>Incidence per 100 000=%{z}<extra></extra>",
         "locations": [
          "PER",
          "KHM",
          "SYR",
          "DJI",
          "IRL",
          "MDA",
          "ARG",
          "RUS",
          "COG",
          "UKR",
          "KWT",
          "BIH",
          "SVN",
          "SLV",
          "GIN",
          "MWI",
          "POL",
          "CPV",
          "THA",
          "CIV",
          "MOZ",
          "AUT",
          "STP",
          "CRI",
          "GBR",
          "LAO",
          "YEM",
          "BRA",
          "ZAF",
          "ETH",
          "HTI",
          "MDV",
          "HUN",
          "MLT",
          "GNB",
          "LKA",
          "TTO",
          "JPN",
          "NAM",
          "BGD",
          "SEN",
          "CYP",
          "USA",
          "DEU",
          "LVA",
          "NGA",
          "SLB",
          "SSD",
          "EST",
          "IDN",
          "MUS",
          "ALB",
          "QAT",
          "CHL",
          "TUR",
          "JOR",
          "NLD",
          "BRB",
          "SLE",
          "BEN",
          "URY",
          "GRC",
          "LBY",
          "PAK",
          "MMR",
          "SUR",
          "FRA",
          "PNG",
          "BLR",
          "SWE",
          "PYF",
          "IRQ",
          "MNG",
          "AZE",
          "ROU",
          "COM",
          "UGA",
          "KOR",
          "NZL",
          "BTN",
          "VNM",
          "DOM",
          "WSM",
          "GUA",
          "LUX",
          "PHL",
          "CMR",
          "TJK",
          "GAB",
          "ISR",
          "MNE",
          "AUS",
          "RWA",
          "COD",
          "MKD",
          "KGZ",
          "BWA",
          "SOM",
          "GNQ",
          "GUY",
          "MYS",
          "MLI",
          "PRT",
          "CAF",
          "TGO",
          "JAM",
          "OMN",
          "BHS",
          "SAU",
          "HRV",
          "TZA",
          "GMB",
          "LBN",
          "ZMB",
          "NIC",
          "BLZ",
          "ZWE",
          "ERI",
          "HND",
          "ISL",
          "MTQ",
          "AFG",
          "TLS",
          "TCD",
          "ARE",
          "KAZ",
          "NPL",
          "ARM",
          "SRB",
          "CZE",
          "BFA",
          "GHA",
          "LBR",
          "NOR",
          "BRN",
          "SDN",
          "FJI",
          "GUF",
          "IRN",
          "MEX",
          "DZA",
          "REU",
          "CHN",
          "TKM",
          "KEN",
          "NCL",
          "BEL",
          "SGP",
          "DNK",
          "UZB",
          "GLP",
          "LTU",
          "PAN",
          "BDI",
          "SWZ",
          "PRY",
          "CHE",
          "BOL",
          "ECU",
          "GTM",
          "MDG",
          "CAN",
          "GEO",
          "ITA",
          "MAR",
          "LCA",
          "EGY",
          "BHR",
          "CUB",
          "PSE",
          "LSO",
          "NER",
          "ESP",
          "IND",
          "MRT",
          "PRI",
          "TUN",
          "BGR",
          "FIN",
          "AGO",
          "COL",
          "PRK",
          "VUT",
          "SVK",
          "VEN"
         ],
         "name": "",
         "type": "choropleth",
         "z": [
          9,
          8.2,
          8.5,
          5.4,
          43.2,
          42.5,
          25,
          41.4,
          2.5,
          41.2,
          8.9,
          45.8,
          68.1,
          6.7,
          1.2,
          2.4,
          49.1,
          3.9,
          21.2,
          2.9,
          1.7,
          31.4,
          3.7,
          16.8,
          48.8,
          9.3,
          4,
          19,
          10.3,
          4.8,
          6,
          7.3,
          74.9,
          44.2,
          2,
          9.2,
          20.6,
          72,
          4.7,
          2.9,
          3,
          29.4,
          35.6,
          39.9,
          58.5,
          3.3,
          3.5,
          2.8,
          41.9,
          10.8,
          22.8,
          10.5,
          5.2,
          21.9,
          19.9,
          10.4,
          66.6,
          35.3,
          2.5,
          3.4,
          37.3,
          42.9,
          10.8,
          3.4,
          8.1,
          14.2,
          45.6,
          5.7,
          45.5,
          41.8,
          11.8,
          4.7,
          4.1,
          13.8,
          51,
          2.1,
          2.4,
          40.3,
          43,
          3.3,
          13.6,
          10,
          16.9,
          17.9,
          32.6,
          12.6,
          2.9,
          2.6,
          5,
          22.3,
          39.9,
          42.4,
          2.8,
          2.6,
          38,
          5.2,
          2.9,
          4.2,
          3.5,
          6,
          16.3,
          3.9,
          67.1,
          2.6,
          3.6,
          18.9,
          7.3,
          14.1,
          10.6,
          62.5,
          3.3,
          1.2,
          10.8,
          2.3,
          6.5,
          3.6,
          3.6,
          4.3,
          4.7,
          37.3,
          41.8,
          2.5,
          4.5,
          2.6,
          4.6,
          14.7,
          3,
          23.6,
          55.7,
          55,
          1.8,
          2.4,
          2,
          58.1,
          29.3,
          3.6,
          7.8,
          12.6,
          11.3,
          9.2,
          12.3,
          31.3,
          30.5,
          5,
          4.5,
          22.8,
          52.9,
          47.5,
          64.3,
          6.8,
          36.1,
          44.6,
          11.4,
          2.6,
          2.5,
          12.4,
          33.2,
          4.3,
          9.2,
          3,
          2.7,
          46.9,
          22.8,
          50.8,
          10.3,
          12.5,
          4.5,
          7.8,
          27.1,
          8.5,
          3,
          2.6,
          56.6,
          4.1,
          3.4,
          43.5,
          13.1,
          49.7,
          42.4,
          2.6,
          15.6,
          21.3,
          3.3,
          67.5,
          12.6
         ]
        }
       ],
       "layout": {
        "coloraxis": {
         "colorbar": {
          "title": {
           "text": "Incidence per 100 000"
          }
         },
         "colorscale": [
          [
           0,
           "rgb(196, 230, 195)"
          ],
          [
           0.16666666666666666,
           "rgb(150, 210, 164)"
          ],
          [
           0.3333333333333333,
           "rgb(109, 188, 144)"
          ],
          [
           0.5,
           "rgb(77, 162, 132)"
          ],
          [
           0.6666666666666666,
           "rgb(54, 135, 122)"
          ],
          [
           0.8333333333333334,
           "rgb(38, 107, 110)"
          ],
          [
           1,
           "rgb(29, 79, 96)"
          ]
         ]
        },
        "geo": {
         "center": {},
         "domain": {
          "x": [
           0,
           1
          ],
          "y": [
           0,
           1
          ]
         }
        },
        "legend": {
         "tracegroupgap": 0
        },
        "template": {
         "data": {
          "bar": [
           {
            "error_x": {
             "color": "#2a3f5f"
            },
            "error_y": {
             "color": "#2a3f5f"
            },
            "marker": {
             "line": {
              "color": "#E5ECF6",
              "width": 0.5
             },
             "pattern": {
              "fillmode": "overlay",
              "size": 10,
              "solidity": 0.2
             }
            },
            "type": "bar"
           }
          ],
          "barpolar": [
           {
            "marker": {
             "line": {
              "color": "#E5ECF6",
              "width": 0.5
             },
             "pattern": {
              "fillmode": "overlay",
              "size": 10,
              "solidity": 0.2
             }
            },
            "type": "barpolar"
           }
          ],
          "carpet": [
           {
            "aaxis": {
             "endlinecolor": "#2a3f5f",
             "gridcolor": "white",
             "linecolor": "white",
             "minorgridcolor": "white",
             "startlinecolor": "#2a3f5f"
            },
            "baxis": {
             "endlinecolor": "#2a3f5f",
             "gridcolor": "white",
             "linecolor": "white",
             "minorgridcolor": "white",
             "startlinecolor": "#2a3f5f"
            },
            "type": "carpet"
           }
          ],
          "choropleth": [
           {
            "colorbar": {
             "outlinewidth": 0,
             "ticks": ""
            },
            "type": "choropleth"
           }
          ],
          "contour": [
           {
            "colorbar": {
             "outlinewidth": 0,
             "ticks": ""
            },
            "colorscale": [
             [
              0,
              "#0d0887"
             ],
             [
              0.1111111111111111,
              "#46039f"
             ],
             [
              0.2222222222222222,
              "#7201a8"
             ],
             [
              0.3333333333333333,
              "#9c179e"
             ],
             [
              0.4444444444444444,
              "#bd3786"
             ],
             [
              0.5555555555555556,
              "#d8576b"
             ],
             [
              0.6666666666666666,
              "#ed7953"
             ],
             [
              0.7777777777777778,
              "#fb9f3a"
             ],
             [
              0.8888888888888888,
              "#fdca26"
             ],
             [
              1,
              "#f0f921"
             ]
            ],
            "type": "contour"
           }
          ],
          "contourcarpet": [
           {
            "colorbar": {
             "outlinewidth": 0,
             "ticks": ""
            },
            "type": "contourcarpet"
           }
          ],
          "heatmap": [
           {
            "colorbar": {
             "outlinewidth": 0,
             "ticks": ""
            },
            "colorscale": [
             [
              0,
              "#0d0887"
             ],
             [
              0.1111111111111111,
              "#46039f"
             ],
             [
              0.2222222222222222,
              "#7201a8"
             ],
             [
              0.3333333333333333,
              "#9c179e"
             ],
             [
              0.4444444444444444,
              "#bd3786"
             ],
             [
              0.5555555555555556,
              "#d8576b"
             ],
             [
              0.6666666666666666,
              "#ed7953"
             ],
             [
              0.7777777777777778,
              "#fb9f3a"
             ],
             [
              0.8888888888888888,
              "#fdca26"
             ],
             [
              1,
              "#f0f921"
             ]
            ],
            "type": "heatmap"
           }
          ],
          "heatmapgl": [
           {
            "colorbar": {
             "outlinewidth": 0,
             "ticks": ""
            },
            "colorscale": [
             [
              0,
              "#0d0887"
             ],
             [
              0.1111111111111111,
              "#46039f"
             ],
             [
              0.2222222222222222,
              "#7201a8"
             ],
             [
              0.3333333333333333,
              "#9c179e"
             ],
             [
              0.4444444444444444,
              "#bd3786"
             ],
             [
              0.5555555555555556,
              "#d8576b"
             ],
             [
              0.6666666666666666,
              "#ed7953"
             ],
             [
              0.7777777777777778,
              "#fb9f3a"
             ],
             [
              0.8888888888888888,
              "#fdca26"
             ],
             [
              1,
              "#f0f921"
             ]
            ],
            "type": "heatmapgl"
           }
          ],
          "histogram": [
           {
            "marker": {
             "pattern": {
              "fillmode": "overlay",
              "size": 10,
              "solidity": 0.2
             }
            },
            "type": "histogram"
           }
          ],
          "histogram2d": [
           {
            "colorbar": {
             "outlinewidth": 0,
             "ticks": ""
            },
            "colorscale": [
             [
              0,
              "#0d0887"
             ],
             [
              0.1111111111111111,
              "#46039f"
             ],
             [
              0.2222222222222222,
              "#7201a8"
             ],
             [
              0.3333333333333333,
              "#9c179e"
             ],
             [
              0.4444444444444444,
              "#bd3786"
             ],
             [
              0.5555555555555556,
              "#d8576b"
             ],
             [
              0.6666666666666666,
              "#ed7953"
             ],
             [
              0.7777777777777778,
              "#fb9f3a"
             ],
             [
              0.8888888888888888,
              "#fdca26"
             ],
             [
              1,
              "#f0f921"
             ]
            ],
            "type": "histogram2d"
           }
          ],
          "histogram2dcontour": [
           {
            "colorbar": {
             "outlinewidth": 0,
             "ticks": ""
            },
            "colorscale": [
             [
              0,
              "#0d0887"
             ],
             [
              0.1111111111111111,
              "#46039f"
             ],
             [
              0.2222222222222222,
              "#7201a8"
             ],
             [
              0.3333333333333333,
              "#9c179e"
             ],
             [
              0.4444444444444444,
              "#bd3786"
             ],
             [
              0.5555555555555556,
              "#d8576b"
             ],
             [
              0.6666666666666666,
              "#ed7953"
             ],
             [
              0.7777777777777778,
              "#fb9f3a"
             ],
             [
              0.8888888888888888,
              "#fdca26"
             ],
             [
              1,
              "#f0f921"
             ]
            ],
            "type": "histogram2dcontour"
           }
          ],
          "mesh3d": [
           {
            "colorbar": {
             "outlinewidth": 0,
             "ticks": ""
            },
            "type": "mesh3d"
           }
          ],
          "parcoords": [
           {
            "line": {
             "colorbar": {
              "outlinewidth": 0,
              "ticks": ""
             }
            },
            "type": "parcoords"
           }
          ],
          "pie": [
           {
            "automargin": true,
            "type": "pie"
           }
          ],
          "scatter": [
           {
            "fillpattern": {
             "fillmode": "overlay",
             "size": 10,
             "solidity": 0.2
            },
            "type": "scatter"
           }
          ],
          "scatter3d": [
           {
            "line": {
             "colorbar": {
              "outlinewidth": 0,
              "ticks": ""
             }
            },
            "marker": {
             "colorbar": {
              "outlinewidth": 0,
              "ticks": ""
             }
            },
            "type": "scatter3d"
           }
          ],
          "scattercarpet": [
           {
            "marker": {
             "colorbar": {
              "outlinewidth": 0,
              "ticks": ""
             }
            },
            "type": "scattercarpet"
           }
          ],
          "scattergeo": [
           {
            "marker": {
             "colorbar": {
              "outlinewidth": 0,
              "ticks": ""
             }
            },
            "type": "scattergeo"
           }
          ],
          "scattergl": [
           {
            "marker": {
             "colorbar": {
              "outlinewidth": 0,
              "ticks": ""
             }
            },
            "type": "scattergl"
           }
          ],
          "scattermapbox": [
           {
            "marker": {
             "colorbar": {
              "outlinewidth": 0,
              "ticks": ""
             }
            },
            "type": "scattermapbox"
           }
          ],
          "scatterpolar": [
           {
            "marker": {
             "colorbar": {
              "outlinewidth": 0,
              "ticks": ""
             }
            },
            "type": "scatterpolar"
           }
          ],
          "scatterpolargl": [
           {
            "marker": {
             "colorbar": {
              "outlinewidth": 0,
              "ticks": ""
             }
            },
            "type": "scatterpolargl"
           }
          ],
          "scatterternary": [
           {
            "marker": {
             "colorbar": {
              "outlinewidth": 0,
              "ticks": ""
             }
            },
            "type": "scatterternary"
           }
          ],
          "surface": [
           {
            "colorbar": {
             "outlinewidth": 0,
             "ticks": ""
            },
            "colorscale": [
             [
              0,
              "#0d0887"
             ],
             [
              0.1111111111111111,
              "#46039f"
             ],
             [
              0.2222222222222222,
              "#7201a8"
             ],
             [
              0.3333333333333333,
              "#9c179e"
             ],
             [
              0.4444444444444444,
              "#bd3786"
             ],
             [
              0.5555555555555556,
              "#d8576b"
             ],
             [
              0.6666666666666666,
              "#ed7953"
             ],
             [
              0.7777777777777778,
              "#fb9f3a"
             ],
             [
              0.8888888888888888,
              "#fdca26"
             ],
             [
              1,
              "#f0f921"
             ]
            ],
            "type": "surface"
           }
          ],
          "table": [
           {
            "cells": {
             "fill": {
              "color": "#EBF0F8"
             },
             "line": {
              "color": "white"
             }
            },
            "header": {
             "fill": {
              "color": "#C8D4E3"
             },
             "line": {
              "color": "white"
             }
            },
            "type": "table"
           }
          ]
         },
         "layout": {
          "annotationdefaults": {
           "arrowcolor": "#2a3f5f",
           "arrowhead": 0,
           "arrowwidth": 1
          },
          "autotypenumbers": "strict",
          "coloraxis": {
           "colorbar": {
            "outlinewidth": 0,
            "ticks": ""
           }
          },
          "colorscale": {
           "diverging": [
            [
             0,
             "#8e0152"
            ],
            [
             0.1,
             "#c51b7d"
            ],
            [
             0.2,
             "#de77ae"
            ],
            [
             0.3,
             "#f1b6da"
            ],
            [
             0.4,
             "#fde0ef"
            ],
            [
             0.5,
             "#f7f7f7"
            ],
            [
             0.6,
             "#e6f5d0"
            ],
            [
             0.7,
             "#b8e186"
            ],
            [
             0.8,
             "#7fbc41"
            ],
            [
             0.9,
             "#4d9221"
            ],
            [
             1,
             "#276419"
            ]
           ],
           "sequential": [
            [
             0,
             "#0d0887"
            ],
            [
             0.1111111111111111,
             "#46039f"
            ],
            [
             0.2222222222222222,
             "#7201a8"
            ],
            [
             0.3333333333333333,
             "#9c179e"
            ],
            [
             0.4444444444444444,
             "#bd3786"
            ],
            [
             0.5555555555555556,
             "#d8576b"
            ],
            [
             0.6666666666666666,
             "#ed7953"
            ],
            [
             0.7777777777777778,
             "#fb9f3a"
            ],
            [
             0.8888888888888888,
             "#fdca26"
            ],
            [
             1,
             "#f0f921"
            ]
           ],
           "sequentialminus": [
            [
             0,
             "#0d0887"
            ],
            [
             0.1111111111111111,
             "#46039f"
            ],
            [
             0.2222222222222222,
             "#7201a8"
            ],
            [
             0.3333333333333333,
             "#9c179e"
            ],
            [
             0.4444444444444444,
             "#bd3786"
            ],
            [
             0.5555555555555556,
             "#d8576b"
            ],
            [
             0.6666666666666666,
             "#ed7953"
            ],
            [
             0.7777777777777778,
             "#fb9f3a"
            ],
            [
             0.8888888888888888,
             "#fdca26"
            ],
            [
             1,
             "#f0f921"
            ]
           ]
          },
          "colorway": [
           "#636efa",
           "#EF553B",
           "#00cc96",
           "#ab63fa",
           "#FFA15A",
           "#19d3f3",
           "#FF6692",
           "#B6E880",
           "#FF97FF",
           "#FECB52"
          ],
          "font": {
           "color": "#2a3f5f"
          },
          "geo": {
           "bgcolor": "white",
           "lakecolor": "white",
           "landcolor": "#E5ECF6",
           "showlakes": true,
           "showland": true,
           "subunitcolor": "white"
          },
          "hoverlabel": {
           "align": "left"
          },
          "hovermode": "closest",
          "mapbox": {
           "style": "light"
          },
          "paper_bgcolor": "white",
          "plot_bgcolor": "#E5ECF6",
          "polar": {
           "angularaxis": {
            "gridcolor": "white",
            "linecolor": "white",
            "ticks": ""
           },
           "bgcolor": "#E5ECF6",
           "radialaxis": {
            "gridcolor": "white",
            "linecolor": "white",
            "ticks": ""
           }
          },
          "scene": {
           "xaxis": {
            "backgroundcolor": "#E5ECF6",
            "gridcolor": "white",
            "gridwidth": 2,
            "linecolor": "white",
            "showbackground": true,
            "ticks": "",
            "zerolinecolor": "white"
           },
           "yaxis": {
            "backgroundcolor": "#E5ECF6",
            "gridcolor": "white",
            "gridwidth": 2,
            "linecolor": "white",
            "showbackground": true,
            "ticks": "",
            "zerolinecolor": "white"
           },
           "zaxis": {
            "backgroundcolor": "#E5ECF6",
            "gridcolor": "white",
            "gridwidth": 2,
            "linecolor": "white",
            "showbackground": true,
            "ticks": "",
            "zerolinecolor": "white"
           }
          },
          "shapedefaults": {
           "line": {
            "color": "#2a3f5f"
           }
          },
          "ternary": {
           "aaxis": {
            "gridcolor": "white",
            "linecolor": "white",
            "ticks": ""
           },
           "baxis": {
            "gridcolor": "white",
            "linecolor": "white",
            "ticks": ""
           },
           "bgcolor": "#E5ECF6",
           "caxis": {
            "gridcolor": "white",
            "linecolor": "white",
            "ticks": ""
           }
          },
          "title": {
           "x": 0.05
          },
          "xaxis": {
           "automargin": true,
           "gridcolor": "white",
           "linecolor": "white",
           "ticks": "",
           "title": {
            "standoff": 15
           },
           "zerolinecolor": "white",
           "zerolinewidth": 2
          },
          "yaxis": {
           "automargin": true,
           "gridcolor": "white",
           "linecolor": "white",
           "ticks": "",
           "title": {
            "standoff": 15
           },
           "zerolinecolor": "white",
           "zerolinewidth": 2
          }
         }
        },
        "title": {
         "text": "Estimated colorectal cancer incidence rates in 2020, per country, both sexes, ages 0-74"
        }
       }
      }
     },
     "metadata": {},
     "output_type": "display_data"
    },
    {
     "data": {
      "application/vnd.plotly.v1+json": {
       "config": {
        "plotlyServerURL": "https://plot.ly"
       },
       "data": [
        {
         "coloraxis": "coloraxis",
         "geo": "geo",
         "hovertemplate": "ISO code=%{location}<br>Mortality per 100 000=%{z}<extra></extra>",
         "locations": [
          "PER",
          "KHM",
          "SYR",
          "DJI",
          "IRL",
          "MDA",
          "ARG",
          "RUS",
          "COG",
          "UKR",
          "KWT",
          "BIH",
          "SVN",
          "SLV",
          "GIN",
          "MWI",
          "POL",
          "CPV",
          "THA",
          "CIV",
          "MOZ",
          "AUT",
          "STP",
          "CRI",
          "GBR",
          "LAO",
          "YEM",
          "BRA",
          "ZAF",
          "ETH",
          "HTI",
          "MDV",
          "HUN",
          "MLT",
          "GNB",
          "LKA",
          "TTO",
          "JPN",
          "NAM",
          "BGD",
          "SEN",
          "CYP",
          "USA",
          "DEU",
          "LVA",
          "NGA",
          "SLB",
          "SSD",
          "EST",
          "IDN",
          "MUS",
          "ALB",
          "QAT",
          "CHL",
          "TUR",
          "JOR",
          "NLD",
          "BRB",
          "SLE",
          "BEN",
          "URY",
          "GRC",
          "LBY",
          "PAK",
          "MMR",
          "SUR",
          "FRA",
          "PNG",
          "BLR",
          "SWE",
          "PYF",
          "IRQ",
          "MNG",
          "AZE",
          "ROU",
          "COM",
          "UGA",
          "KOR",
          "NZL",
          "BTN",
          "VNM",
          "DOM",
          "WSM",
          "GUA",
          "LUX",
          "PHL",
          "CMR",
          "TJK",
          "GAB",
          "ISR",
          "MNE",
          "AUS",
          "RWA",
          "COD",
          "MKD",
          "KGZ",
          "BWA",
          "SOM",
          "GNQ",
          "GUY",
          "MYS",
          "MLI",
          "PRT",
          "CAF",
          "TGO",
          "JAM",
          "OMN",
          "BHS",
          "SAU",
          "HRV",
          "TZA",
          "GMB",
          "LBN",
          "ZMB",
          "NIC",
          "BLZ",
          "ZWE",
          "ERI",
          "HND",
          "ISL",
          "MTQ",
          "AFG",
          "TLS",
          "TCD",
          "ARE",
          "KAZ",
          "NPL",
          "ARM",
          "SRB",
          "CZE",
          "BFA",
          "GHA",
          "LBR",
          "NOR",
          "BRN",
          "SDN",
          "FJI",
          "GUF",
          "IRN",
          "MEX",
          "DZA",
          "REU",
          "CHN",
          "TKM",
          "KEN",
          "NCL",
          "BEL",
          "SGP",
          "DNK",
          "UZB",
          "GLP",
          "LTU",
          "PAN",
          "BDI",
          "SWZ",
          "PRY",
          "CHE",
          "BOL",
          "ECU",
          "GTM",
          "MDG",
          "CAN",
          "GEO",
          "ITA",
          "MAR",
          "LCA",
          "EGY",
          "BHR",
          "CUB",
          "PSE",
          "LSO",
          "NER",
          "ESP",
          "IND",
          "MRT",
          "PRI",
          "TUN",
          "BGR",
          "FIN",
          "AGO",
          "COL",
          "PRK",
          "VUT",
          "SVK",
          "VEN"
         ],
         "name": "",
         "type": "choropleth",
         "z": [
          3.9,
          4.3,
          5,
          4,
          12.7,
          23.4,
          11.3,
          19.1,
          1.6,
          20.1,
          3.9,
          22.4,
          15.9,
          3.3,
          0.88,
          1.7,
          23.5,
          0.73,
          8.6,
          2,
          1.2,
          11.2,
          2.3,
          8.4,
          13.6,
          4.7,
          2.7,
          8.1,
          4.8,
          3.6,
          3.8,
          2.8,
          30.7,
          15.1,
          1.5,
          4.3,
          11.3,
          18.6,
          2.8,
          1.7,
          2,
          10.8,
          10.2,
          13.7,
          17.5,
          2.3,
          1.8,
          2.1,
          17.9,
          5.2,
          9.3,
          4.7,
          2.1,
          9.1,
          8.5,
          5,
          19,
          22.5,
          1.9,
          2.3,
          15.1,
          14.1,
          5.3,
          1.8,
          4.3,
          8.4,
          13.7,
          3.1,
          19.4,
          14.4,
          5.9,
          2.7,
          2.4,
          7.7,
          22.5,
          1.3,
          1.7,
          8.4,
          13.3,
          2.1,
          5.8,
          5.2,
          7.7,
          9.9,
          9.1,
          5.5,
          1.9,
          1.6,
          3,
          7.2,
          16.9,
          8.9,
          2,
          1.9,
          17.6,
          3.5,
          1.6,
          3.4,
          2.3,
          3.3,
          7.1,
          2.9,
          19,
          2,
          2.5,
          11.4,
          4,
          9.7,
          5,
          29.4,
          2.2,
          0.83,
          5.4,
          1.5,
          3.6,
          3.3,
          2.4,
          3.2,
          2.8,
          11,
          16,
          1.6,
          1.9,
          2,
          1.8,
          8.1,
          1.6,
          11.7,
          26.1,
          18.6,
          1.4,
          1.6,
          1.4,
          16.1,
          9.1,
          1.9,
          4.3,
          3.7,
          5,
          4.3,
          5.8,
          12.2,
          12.7,
          2.9,
          2.9,
          9.1,
          13,
          19.9,
          16.3,
          3.8,
          12.6,
          16.8,
          5.5,
          2,
          1.7,
          5.5,
          9.6,
          2.5,
          4.1,
          1.7,
          1.9,
          12.4,
          11.2,
          14.9,
          4.9,
          6.3,
          2.1,
          3.1,
          13.3,
          4.5,
          1.9,
          2,
          15.3,
          2.3,
          2.3,
          18.9,
          5.8,
          24.1,
          13.4,
          1.7,
          6.8,
          11.9,
          3,
          27.1,
          6.2
         ]
        }
       ],
       "layout": {
        "coloraxis": {
         "colorbar": {
          "title": {
           "text": "Mortality per 100 000"
          }
         },
         "colorscale": [
          [
           0,
           "rgb(255,245,240)"
          ],
          [
           0.125,
           "rgb(254,224,210)"
          ],
          [
           0.25,
           "rgb(252,187,161)"
          ],
          [
           0.375,
           "rgb(252,146,114)"
          ],
          [
           0.5,
           "rgb(251,106,74)"
          ],
          [
           0.625,
           "rgb(239,59,44)"
          ],
          [
           0.75,
           "rgb(203,24,29)"
          ],
          [
           0.875,
           "rgb(165,15,21)"
          ],
          [
           1,
           "rgb(103,0,13)"
          ]
         ]
        },
        "geo": {
         "center": {},
         "domain": {
          "x": [
           0,
           1
          ],
          "y": [
           0,
           1
          ]
         }
        },
        "legend": {
         "tracegroupgap": 0
        },
        "template": {
         "data": {
          "bar": [
           {
            "error_x": {
             "color": "#2a3f5f"
            },
            "error_y": {
             "color": "#2a3f5f"
            },
            "marker": {
             "line": {
              "color": "#E5ECF6",
              "width": 0.5
             },
             "pattern": {
              "fillmode": "overlay",
              "size": 10,
              "solidity": 0.2
             }
            },
            "type": "bar"
           }
          ],
          "barpolar": [
           {
            "marker": {
             "line": {
              "color": "#E5ECF6",
              "width": 0.5
             },
             "pattern": {
              "fillmode": "overlay",
              "size": 10,
              "solidity": 0.2
             }
            },
            "type": "barpolar"
           }
          ],
          "carpet": [
           {
            "aaxis": {
             "endlinecolor": "#2a3f5f",
             "gridcolor": "white",
             "linecolor": "white",
             "minorgridcolor": "white",
             "startlinecolor": "#2a3f5f"
            },
            "baxis": {
             "endlinecolor": "#2a3f5f",
             "gridcolor": "white",
             "linecolor": "white",
             "minorgridcolor": "white",
             "startlinecolor": "#2a3f5f"
            },
            "type": "carpet"
           }
          ],
          "choropleth": [
           {
            "colorbar": {
             "outlinewidth": 0,
             "ticks": ""
            },
            "type": "choropleth"
           }
          ],
          "contour": [
           {
            "colorbar": {
             "outlinewidth": 0,
             "ticks": ""
            },
            "colorscale": [
             [
              0,
              "#0d0887"
             ],
             [
              0.1111111111111111,
              "#46039f"
             ],
             [
              0.2222222222222222,
              "#7201a8"
             ],
             [
              0.3333333333333333,
              "#9c179e"
             ],
             [
              0.4444444444444444,
              "#bd3786"
             ],
             [
              0.5555555555555556,
              "#d8576b"
             ],
             [
              0.6666666666666666,
              "#ed7953"
             ],
             [
              0.7777777777777778,
              "#fb9f3a"
             ],
             [
              0.8888888888888888,
              "#fdca26"
             ],
             [
              1,
              "#f0f921"
             ]
            ],
            "type": "contour"
           }
          ],
          "contourcarpet": [
           {
            "colorbar": {
             "outlinewidth": 0,
             "ticks": ""
            },
            "type": "contourcarpet"
           }
          ],
          "heatmap": [
           {
            "colorbar": {
             "outlinewidth": 0,
             "ticks": ""
            },
            "colorscale": [
             [
              0,
              "#0d0887"
             ],
             [
              0.1111111111111111,
              "#46039f"
             ],
             [
              0.2222222222222222,
              "#7201a8"
             ],
             [
              0.3333333333333333,
              "#9c179e"
             ],
             [
              0.4444444444444444,
              "#bd3786"
             ],
             [
              0.5555555555555556,
              "#d8576b"
             ],
             [
              0.6666666666666666,
              "#ed7953"
             ],
             [
              0.7777777777777778,
              "#fb9f3a"
             ],
             [
              0.8888888888888888,
              "#fdca26"
             ],
             [
              1,
              "#f0f921"
             ]
            ],
            "type": "heatmap"
           }
          ],
          "heatmapgl": [
           {
            "colorbar": {
             "outlinewidth": 0,
             "ticks": ""
            },
            "colorscale": [
             [
              0,
              "#0d0887"
             ],
             [
              0.1111111111111111,
              "#46039f"
             ],
             [
              0.2222222222222222,
              "#7201a8"
             ],
             [
              0.3333333333333333,
              "#9c179e"
             ],
             [
              0.4444444444444444,
              "#bd3786"
             ],
             [
              0.5555555555555556,
              "#d8576b"
             ],
             [
              0.6666666666666666,
              "#ed7953"
             ],
             [
              0.7777777777777778,
              "#fb9f3a"
             ],
             [
              0.8888888888888888,
              "#fdca26"
             ],
             [
              1,
              "#f0f921"
             ]
            ],
            "type": "heatmapgl"
           }
          ],
          "histogram": [
           {
            "marker": {
             "pattern": {
              "fillmode": "overlay",
              "size": 10,
              "solidity": 0.2
             }
            },
            "type": "histogram"
           }
          ],
          "histogram2d": [
           {
            "colorbar": {
             "outlinewidth": 0,
             "ticks": ""
            },
            "colorscale": [
             [
              0,
              "#0d0887"
             ],
             [
              0.1111111111111111,
              "#46039f"
             ],
             [
              0.2222222222222222,
              "#7201a8"
             ],
             [
              0.3333333333333333,
              "#9c179e"
             ],
             [
              0.4444444444444444,
              "#bd3786"
             ],
             [
              0.5555555555555556,
              "#d8576b"
             ],
             [
              0.6666666666666666,
              "#ed7953"
             ],
             [
              0.7777777777777778,
              "#fb9f3a"
             ],
             [
              0.8888888888888888,
              "#fdca26"
             ],
             [
              1,
              "#f0f921"
             ]
            ],
            "type": "histogram2d"
           }
          ],
          "histogram2dcontour": [
           {
            "colorbar": {
             "outlinewidth": 0,
             "ticks": ""
            },
            "colorscale": [
             [
              0,
              "#0d0887"
             ],
             [
              0.1111111111111111,
              "#46039f"
             ],
             [
              0.2222222222222222,
              "#7201a8"
             ],
             [
              0.3333333333333333,
              "#9c179e"
             ],
             [
              0.4444444444444444,
              "#bd3786"
             ],
             [
              0.5555555555555556,
              "#d8576b"
             ],
             [
              0.6666666666666666,
              "#ed7953"
             ],
             [
              0.7777777777777778,
              "#fb9f3a"
             ],
             [
              0.8888888888888888,
              "#fdca26"
             ],
             [
              1,
              "#f0f921"
             ]
            ],
            "type": "histogram2dcontour"
           }
          ],
          "mesh3d": [
           {
            "colorbar": {
             "outlinewidth": 0,
             "ticks": ""
            },
            "type": "mesh3d"
           }
          ],
          "parcoords": [
           {
            "line": {
             "colorbar": {
              "outlinewidth": 0,
              "ticks": ""
             }
            },
            "type": "parcoords"
           }
          ],
          "pie": [
           {
            "automargin": true,
            "type": "pie"
           }
          ],
          "scatter": [
           {
            "fillpattern": {
             "fillmode": "overlay",
             "size": 10,
             "solidity": 0.2
            },
            "type": "scatter"
           }
          ],
          "scatter3d": [
           {
            "line": {
             "colorbar": {
              "outlinewidth": 0,
              "ticks": ""
             }
            },
            "marker": {
             "colorbar": {
              "outlinewidth": 0,
              "ticks": ""
             }
            },
            "type": "scatter3d"
           }
          ],
          "scattercarpet": [
           {
            "marker": {
             "colorbar": {
              "outlinewidth": 0,
              "ticks": ""
             }
            },
            "type": "scattercarpet"
           }
          ],
          "scattergeo": [
           {
            "marker": {
             "colorbar": {
              "outlinewidth": 0,
              "ticks": ""
             }
            },
            "type": "scattergeo"
           }
          ],
          "scattergl": [
           {
            "marker": {
             "colorbar": {
              "outlinewidth": 0,
              "ticks": ""
             }
            },
            "type": "scattergl"
           }
          ],
          "scattermapbox": [
           {
            "marker": {
             "colorbar": {
              "outlinewidth": 0,
              "ticks": ""
             }
            },
            "type": "scattermapbox"
           }
          ],
          "scatterpolar": [
           {
            "marker": {
             "colorbar": {
              "outlinewidth": 0,
              "ticks": ""
             }
            },
            "type": "scatterpolar"
           }
          ],
          "scatterpolargl": [
           {
            "marker": {
             "colorbar": {
              "outlinewidth": 0,
              "ticks": ""
             }
            },
            "type": "scatterpolargl"
           }
          ],
          "scatterternary": [
           {
            "marker": {
             "colorbar": {
              "outlinewidth": 0,
              "ticks": ""
             }
            },
            "type": "scatterternary"
           }
          ],
          "surface": [
           {
            "colorbar": {
             "outlinewidth": 0,
             "ticks": ""
            },
            "colorscale": [
             [
              0,
              "#0d0887"
             ],
             [
              0.1111111111111111,
              "#46039f"
             ],
             [
              0.2222222222222222,
              "#7201a8"
             ],
             [
              0.3333333333333333,
              "#9c179e"
             ],
             [
              0.4444444444444444,
              "#bd3786"
             ],
             [
              0.5555555555555556,
              "#d8576b"
             ],
             [
              0.6666666666666666,
              "#ed7953"
             ],
             [
              0.7777777777777778,
              "#fb9f3a"
             ],
             [
              0.8888888888888888,
              "#fdca26"
             ],
             [
              1,
              "#f0f921"
             ]
            ],
            "type": "surface"
           }
          ],
          "table": [
           {
            "cells": {
             "fill": {
              "color": "#EBF0F8"
             },
             "line": {
              "color": "white"
             }
            },
            "header": {
             "fill": {
              "color": "#C8D4E3"
             },
             "line": {
              "color": "white"
             }
            },
            "type": "table"
           }
          ]
         },
         "layout": {
          "annotationdefaults": {
           "arrowcolor": "#2a3f5f",
           "arrowhead": 0,
           "arrowwidth": 1
          },
          "autotypenumbers": "strict",
          "coloraxis": {
           "colorbar": {
            "outlinewidth": 0,
            "ticks": ""
           }
          },
          "colorscale": {
           "diverging": [
            [
             0,
             "#8e0152"
            ],
            [
             0.1,
             "#c51b7d"
            ],
            [
             0.2,
             "#de77ae"
            ],
            [
             0.3,
             "#f1b6da"
            ],
            [
             0.4,
             "#fde0ef"
            ],
            [
             0.5,
             "#f7f7f7"
            ],
            [
             0.6,
             "#e6f5d0"
            ],
            [
             0.7,
             "#b8e186"
            ],
            [
             0.8,
             "#7fbc41"
            ],
            [
             0.9,
             "#4d9221"
            ],
            [
             1,
             "#276419"
            ]
           ],
           "sequential": [
            [
             0,
             "#0d0887"
            ],
            [
             0.1111111111111111,
             "#46039f"
            ],
            [
             0.2222222222222222,
             "#7201a8"
            ],
            [
             0.3333333333333333,
             "#9c179e"
            ],
            [
             0.4444444444444444,
             "#bd3786"
            ],
            [
             0.5555555555555556,
             "#d8576b"
            ],
            [
             0.6666666666666666,
             "#ed7953"
            ],
            [
             0.7777777777777778,
             "#fb9f3a"
            ],
            [
             0.8888888888888888,
             "#fdca26"
            ],
            [
             1,
             "#f0f921"
            ]
           ],
           "sequentialminus": [
            [
             0,
             "#0d0887"
            ],
            [
             0.1111111111111111,
             "#46039f"
            ],
            [
             0.2222222222222222,
             "#7201a8"
            ],
            [
             0.3333333333333333,
             "#9c179e"
            ],
            [
             0.4444444444444444,
             "#bd3786"
            ],
            [
             0.5555555555555556,
             "#d8576b"
            ],
            [
             0.6666666666666666,
             "#ed7953"
            ],
            [
             0.7777777777777778,
             "#fb9f3a"
            ],
            [
             0.8888888888888888,
             "#fdca26"
            ],
            [
             1,
             "#f0f921"
            ]
           ]
          },
          "colorway": [
           "#636efa",
           "#EF553B",
           "#00cc96",
           "#ab63fa",
           "#FFA15A",
           "#19d3f3",
           "#FF6692",
           "#B6E880",
           "#FF97FF",
           "#FECB52"
          ],
          "font": {
           "color": "#2a3f5f"
          },
          "geo": {
           "bgcolor": "white",
           "lakecolor": "white",
           "landcolor": "#E5ECF6",
           "showlakes": true,
           "showland": true,
           "subunitcolor": "white"
          },
          "hoverlabel": {
           "align": "left"
          },
          "hovermode": "closest",
          "mapbox": {
           "style": "light"
          },
          "paper_bgcolor": "white",
          "plot_bgcolor": "#E5ECF6",
          "polar": {
           "angularaxis": {
            "gridcolor": "white",
            "linecolor": "white",
            "ticks": ""
           },
           "bgcolor": "#E5ECF6",
           "radialaxis": {
            "gridcolor": "white",
            "linecolor": "white",
            "ticks": ""
           }
          },
          "scene": {
           "xaxis": {
            "backgroundcolor": "#E5ECF6",
            "gridcolor": "white",
            "gridwidth": 2,
            "linecolor": "white",
            "showbackground": true,
            "ticks": "",
            "zerolinecolor": "white"
           },
           "yaxis": {
            "backgroundcolor": "#E5ECF6",
            "gridcolor": "white",
            "gridwidth": 2,
            "linecolor": "white",
            "showbackground": true,
            "ticks": "",
            "zerolinecolor": "white"
           },
           "zaxis": {
            "backgroundcolor": "#E5ECF6",
            "gridcolor": "white",
            "gridwidth": 2,
            "linecolor": "white",
            "showbackground": true,
            "ticks": "",
            "zerolinecolor": "white"
           }
          },
          "shapedefaults": {
           "line": {
            "color": "#2a3f5f"
           }
          },
          "ternary": {
           "aaxis": {
            "gridcolor": "white",
            "linecolor": "white",
            "ticks": ""
           },
           "baxis": {
            "gridcolor": "white",
            "linecolor": "white",
            "ticks": ""
           },
           "bgcolor": "#E5ECF6",
           "caxis": {
            "gridcolor": "white",
            "linecolor": "white",
            "ticks": ""
           }
          },
          "title": {
           "x": 0.05
          },
          "xaxis": {
           "automargin": true,
           "gridcolor": "white",
           "linecolor": "white",
           "ticks": "",
           "title": {
            "standoff": 15
           },
           "zerolinecolor": "white",
           "zerolinewidth": 2
          },
          "yaxis": {
           "automargin": true,
           "gridcolor": "white",
           "linecolor": "white",
           "ticks": "",
           "title": {
            "standoff": 15
           },
           "zerolinecolor": "white",
           "zerolinewidth": 2
          }
         }
        },
        "title": {
         "text": "Estimated colorectal cancer morality rates in 2020, per country, both sexes, ages 0-74"
        }
       }
      }
     },
     "metadata": {},
     "output_type": "display_data"
    },
    {
     "data": {
      "application/vnd.plotly.v1+json": {
       "config": {
        "plotlyServerURL": "https://plot.ly"
       },
       "data": [
        {
         "customdata": [
          [
           "Hungary"
          ],
          [
           "The Netherlands"
          ],
          [
           "Norway"
          ],
          [
           "Denmark"
          ],
          [
           "Slovakia"
          ],
          [
           "Slovenia"
          ],
          [
           "Spain"
          ],
          [
           "Japan"
          ],
          [
           "Belgium"
          ],
          [
           "Uruguay"
          ],
          [
           "Croatia"
          ],
          [
           "Greece"
          ],
          [
           "New Zealand"
          ],
          [
           "Ireland"
          ],
          [
           "Australia"
          ],
          [
           "United Kingdom"
          ],
          [
           "Singapore"
          ],
          [
           "Iceland"
          ],
          [
           "Italy"
          ],
          [
           "Czechia"
          ],
          [
           "Latvia"
          ],
          [
           "Portugal"
          ],
          [
           "Argentina"
          ],
          [
           "Portugal"
          ],
          [
           "Romania"
          ],
          [
           "Slovakia"
          ],
          [
           "Canada"
          ],
          [
           "Brunei Darussalam"
          ],
          [
           "Republic of Moldova"
          ],
          [
           "France"
          ],
          [
           "Malta"
          ],
          [
           "Sweden"
          ],
          [
           "Cyprus"
          ],
          [
           "Luxembourg"
          ],
          [
           "Belarus"
          ],
          [
           "Brunei Darussalam"
          ],
          [
           "Serbia"
          ],
          [
           "Latvia"
          ],
          [
           "Estonia"
          ],
          [
           "Lithuania"
          ],
          [
           "Korea, Republic of"
          ],
          [
           "Barbados"
          ],
          [
           "Serbia"
          ],
          [
           "Poland"
          ],
          [
           "Russian Federation"
          ],
          [
           "Bulgaria"
          ],
          [
           "Finland"
          ],
          [
           "Hungary"
          ],
          [
           "United States of America"
          ],
          [
           "Armenia"
          ],
          [
           "Cuba"
          ],
          [
           "Jamaica"
          ],
          [
           "Montenegro"
          ],
          [
           "Germany"
          ],
          [
           "Japan"
          ],
          [
           "Suriname"
          ],
          [
           "North Macedonia"
          ],
          [
           "Slovenia"
          ],
          [
           "Israel"
          ],
          [
           "Paraguay"
          ],
          [
           "Norway"
          ],
          [
           "Samoa"
          ],
          [
           "Bosnia and Herzegovina"
          ],
          [
           "Ukraine"
          ],
          [
           "Poland"
          ],
          [
           "Chile"
          ],
          [
           "Croatia"
          ],
          [
           "Switzerland"
          ],
          [
           "Jordan"
          ],
          [
           "China"
          ],
          [
           "Czechia"
          ],
          [
           "Denmark"
          ],
          [
           "Ireland"
          ],
          [
           "Austria"
          ],
          [
           "Bosnia and Herzegovina"
          ],
          [
           "Belarus"
          ],
          [
           "Costa Rica"
          ],
          [
           "The Netherlands"
          ],
          [
           "Philippines"
          ],
          [
           "Canada"
          ],
          [
           "Trinidad and Tobago"
          ],
          [
           "Republic of Moldova"
          ],
          [
           "Singapore"
          ],
          [
           "Mauritius"
          ],
          [
           "Gaza Strip and West Bank"
          ],
          [
           "Spain"
          ],
          [
           "Turkey"
          ],
          [
           "Colombia"
          ],
          [
           "Romania"
          ],
          [
           "Dominican Republic"
          ],
          [
           "United Kingdom"
          ],
          [
           "Montenegro"
          ],
          [
           "North Macedonia"
          ],
          [
           "Russian Federation"
          ],
          [
           "Malaysia"
          ],
          [
           "Ukraine"
          ],
          [
           "New Zealand"
          ],
          [
           "Belgium"
          ],
          [
           "Bulgaria"
          ],
          [
           "Estonia"
          ],
          [
           "Lithuania"
          ],
          [
           "France"
          ],
          [
           "China"
          ],
          [
           "Brazil"
          ],
          [
           "Bahamas"
          ],
          [
           "Panama"
          ],
          [
           "Korea, Republic of"
          ],
          [
           "Samoa"
          ],
          [
           "Australia"
          ],
          [
           "Qatar"
          ],
          [
           "Haiti"
          ],
          [
           "Libya"
          ],
          [
           "Bahrain"
          ],
          [
           "Sweden"
          ],
          [
           "Finland"
          ],
          [
           "Venezuela, Bolivarian Republic of"
          ],
          [
           "Ecuador"
          ],
          [
           "Germany"
          ],
          [
           "Syrian Arab Republic"
          ],
          [
           "United Arab Emirates"
          ],
          [
           "Algeria"
          ],
          [
           "Saint Lucia"
          ],
          [
           "Lebanon"
          ],
          [
           "Iran, Islamic Republic of"
          ],
          [
           "Kuwait"
          ],
          [
           "Turkey"
          ],
          [
           "Thailand"
          ],
          [
           "Peru"
          ],
          [
           "Italy"
          ],
          [
           "Luxembourg"
          ],
          [
           "Lao People's Democratic Republic"
          ],
          [
           "United States of America"
          ],
          [
           "Uruguay"
          ],
          [
           "Iceland"
          ],
          [
           "Kazakhstan"
          ],
          [
           "Viet Nam"
          ],
          [
           "Thailand"
          ],
          [
           "Malaysia"
          ],
          [
           "Mexico"
          ],
          [
           "Malta"
          ],
          [
           "Nicaragua"
          ],
          [
           "Brazil"
          ],
          [
           "Georgia"
          ],
          [
           "Georgia"
          ],
          [
           "Switzerland"
          ],
          [
           "South Africa"
          ],
          [
           "Barbados"
          ],
          [
           "Saudi Arabia"
          ],
          [
           "Kazakhstan"
          ],
          [
           "Austria"
          ],
          [
           "Israel"
          ],
          [
           "Guyana"
          ],
          [
           "Cambodia"
          ],
          [
           "Tunisia"
          ],
          [
           "Maldives"
          ],
          [
           "Cyprus"
          ],
          [
           "Lao People's Democratic Republic"
          ],
          [
           "Gaza Strip and West Bank"
          ],
          [
           "Indonesia"
          ],
          [
           "South Africa"
          ],
          [
           "Philippines"
          ],
          [
           "Maldives"
          ],
          [
           "Yemen"
          ],
          [
           "Belize"
          ],
          [
           "Saudi Arabia"
          ],
          [
           "Kenya"
          ],
          [
           "Algeria"
          ],
          [
           "El Salvador"
          ],
          [
           "Chile"
          ],
          [
           "Morocco"
          ],
          [
           "Indonesia"
          ],
          [
           "Sao Tome and Principe"
          ],
          [
           "Viet Nam"
          ],
          [
           "Libya"
          ],
          [
           "Mauritius"
          ],
          [
           "Trinidad and Tobago"
          ],
          [
           "Togo"
          ],
          [
           "Tunisia"
          ],
          [
           "Iraq"
          ],
          [
           "Fiji"
          ],
          [
           "Oman"
          ],
          [
           "Timor-Leste"
          ],
          [
           "Cambodia"
          ],
          [
           "Iran, Islamic Republic of"
          ],
          [
           "Argentina"
          ],
          [
           "Fiji"
          ],
          [
           "Jamaica"
          ],
          [
           "Benin"
          ],
          [
           "CÃÂ´te d'Ivoire"
          ],
          [
           "Guatemala"
          ],
          [
           "Myanmar"
          ],
          [
           "Morocco"
          ],
          [
           "Ethiopia"
          ],
          [
           "Papua New Guinea"
          ],
          [
           "Bolivia, Plurinational State of"
          ],
          [
           "Zimbabwe"
          ],
          [
           "Myanmar"
          ],
          [
           "Honduras"
          ],
          [
           "Costa Rica"
          ],
          [
           "Papua New Guinea"
          ],
          [
           "Mali"
          ],
          [
           "Cabo Verde"
          ],
          [
           "Qatar"
          ],
          [
           "Jordan"
          ],
          [
           "Greece"
          ],
          [
           "Colombia"
          ],
          [
           "Mali"
          ],
          [
           "Cabo Verde"
          ],
          [
           "Armenia"
          ],
          [
           "Yemen"
          ],
          [
           "Kyrgyzstan"
          ],
          [
           "Bahamas"
          ],
          [
           "Egypt"
          ],
          [
           "Venezuela, Bolivarian Republic of"
          ],
          [
           "Uzbekistan"
          ],
          [
           "Albania"
          ],
          [
           "Mauritania"
          ],
          [
           "Bahrain"
          ],
          [
           "Sri Lanka"
          ],
          [
           "Saint Lucia"
          ],
          [
           "Gabon"
          ],
          [
           "Equatorial Guinea"
          ],
          [
           "Uzbekistan"
          ],
          [
           "Solomon Islands"
          ],
          [
           "Niger"
          ],
          [
           "United Arab Emirates"
          ],
          [
           "Djibouti"
          ],
          [
           "Eritrea"
          ],
          [
           "Angola"
          ],
          [
           "Ethiopia"
          ],
          [
           "Cameroon"
          ],
          [
           "Cuba"
          ],
          [
           "Timor-Leste"
          ],
          [
           "Vanuatu"
          ],
          [
           "Oman"
          ],
          [
           "Kuwait"
          ],
          [
           "Albania"
          ],
          [
           "Tanzania, United Republic of"
          ],
          [
           "Syrian Arab Republic"
          ],
          [
           "Chad"
          ],
          [
           "Kyrgyzstan"
          ],
          [
           "Kenya"
          ],
          [
           "Eritrea"
          ],
          [
           "Senegal"
          ],
          [
           "Sri Lanka"
          ],
          [
           "Zimbabwe"
          ],
          [
           "Uganda"
          ],
          [
           "Lebanon"
          ],
          [
           "Paraguay"
          ],
          [
           "Congo, Democratic Republic of"
          ],
          [
           "Iraq"
          ],
          [
           "Lesotho"
          ],
          [
           "Congo, Republic of"
          ],
          [
           "Sudan"
          ],
          [
           "Burundi"
          ],
          [
           "Panama"
          ],
          [
           "Ecuador"
          ],
          [
           "Djibouti"
          ],
          [
           "Liberia"
          ],
          [
           "Pakistan"
          ],
          [
           "Zambia"
          ],
          [
           "Sudan"
          ],
          [
           "Suriname"
          ],
          [
           "Central African Republic"
          ],
          [
           "Central African Republic"
          ],
          [
           "Uganda"
          ],
          [
           "Burkina Faso"
          ],
          [
           "Honduras"
          ],
          [
           "Afghanistan"
          ],
          [
           "South Sudan"
          ],
          [
           "Chad"
          ],
          [
           "Madagascar"
          ],
          [
           "Burundi"
          ],
          [
           "Cameroon"
          ],
          [
           "Rwanda"
          ],
          [
           "Tanzania, United Republic of"
          ],
          [
           "Bhutan"
          ],
          [
           "Guinea-Bissau"
          ],
          [
           "Eswatini"
          ],
          [
           "Senegal"
          ],
          [
           "Solomon Islands"
          ],
          [
           "Mexico"
          ],
          [
           "Nepal"
          ],
          [
           "South Sudan"
          ],
          [
           "Tajikistan"
          ],
          [
           "Afghanistan"
          ],
          [
           "Nicaragua"
          ],
          [
           "India"
          ],
          [
           "Malawi"
          ],
          [
           "The Republic of the Gambia"
          ],
          [
           "Sierra Leone"
          ],
          [
           "Tanzania, United Republic of"
          ],
          [
           "Equatorial Guinea"
          ],
          [
           "Congo, Democratic Republic of"
          ],
          [
           "Rwanda"
          ],
          [
           "Niger"
          ],
          [
           "Mauritania"
          ],
          [
           "Papua New Guinea"
          ],
          [
           "Peru"
          ],
          [
           "El Salvador"
          ],
          [
           "Zambia"
          ],
          [
           "Angola"
          ],
          [
           "India"
          ],
          [
           "Botswana"
          ],
          [
           "CÃÂ´te d'Ivoire"
          ],
          [
           "Pakistan"
          ],
          [
           "Gabon"
          ],
          [
           "Lesotho"
          ],
          [
           "Madagascar"
          ],
          [
           "Comoros"
          ],
          [
           "Bangladesh"
          ],
          [
           "Benin"
          ],
          [
           "Ghana"
          ],
          [
           "Tajikistan"
          ],
          [
           "Sierra Leone"
          ],
          [
           "Sao Tome and Principe"
          ],
          [
           "Togo"
          ],
          [
           "Congo, Republic of"
          ],
          [
           "Mozambique"
          ],
          [
           "Malawi"
          ],
          [
           "Guinea-Bissau"
          ],
          [
           "Egypt"
          ],
          [
           "Haiti"
          ],
          [
           "Nepal"
          ],
          [
           "France"
          ],
          [
           "Botswana"
          ],
          [
           "Bangladesh"
          ],
          [
           "Madagascar"
          ],
          [
           "Guinea"
          ],
          [
           "Mozambique"
          ],
          [
           "Germany"
          ],
          [
           "Denmark"
          ],
          [
           "United States of America"
          ],
          [
           "Barbados"
          ],
          [
           "Gabon"
          ],
          [
           "Australia"
          ],
          [
           "Liberia"
          ],
          [
           "United Kingdom"
          ],
          [
           "Switzerland"
          ],
          [
           "Congo, Republic of"
          ],
          [
           "Comoros"
          ],
          [
           "Qatar"
          ],
          [
           "The Republic of the Gambia"
          ],
          [
           "Bahamas"
          ],
          [
           "Angola"
          ],
          [
           "Guyana"
          ],
          [
           "Ghana"
          ],
          [
           "Guinea"
          ],
          [
           "Congo, Democratic Republic of"
          ],
          [
           "Comoros"
          ],
          [
           "Burundi"
          ],
          [
           "Bhutan"
          ],
          [
           "Eswatini"
          ],
          [
           "Dominican Republic"
          ],
          [
           "Bolivia, Plurinational State of"
          ],
          [
           "Vanuatu"
          ],
          [
           "Canada"
          ],
          [
           "Uzbekistan"
          ],
          [
           "Belgium"
          ],
          [
           "Zimbabwe"
          ],
          [
           "Brazil"
          ],
          [
           "Oman"
          ],
          [
           "Mauritania"
          ],
          [
           "Paraguay"
          ],
          [
           "Austria"
          ],
          [
           "Uruguay"
          ],
          [
           "Togo"
          ],
          [
           "Niger"
          ],
          [
           "Trinidad and Tobago"
          ],
          [
           "Haiti"
          ],
          [
           "Italy"
          ],
          [
           "Norway"
          ],
          [
           "Sweden"
          ],
          [
           "The Netherlands"
          ],
          [
           "Malawi"
          ],
          [
           "New Zealand"
          ],
          [
           "Venezuela, Bolivarian Republic of"
          ],
          [
           "Czechia"
          ],
          [
           "Benin"
          ],
          [
           "South Africa"
          ],
          [
           "Sierra Leone"
          ],
          [
           "Botswana"
          ],
          [
           "Kenya"
          ],
          [
           "Ghana"
          ],
          [
           "Colombia"
          ],
          [
           "Senegal"
          ],
          [
           "Cuba"
          ],
          [
           "Central African Republic"
          ],
          [
           "Luxembourg"
          ],
          [
           "Equatorial Guinea"
          ],
          [
           "Ireland"
          ],
          [
           "Guatemala"
          ],
          [
           "Mozambique"
          ],
          [
           "Honduras"
          ],
          [
           "Burkina Faso"
          ],
          [
           "Chad"
          ],
          [
           "Cameroon"
          ],
          [
           "Peru"
          ],
          [
           "Greece"
          ],
          [
           "Estonia"
          ],
          [
           "Jamaica"
          ],
          [
           "Romania"
          ],
          [
           "Portugal"
          ],
          [
           "Poland"
          ],
          [
           "Ecuador"
          ],
          [
           "CÃÂ´te d'Ivoire"
          ],
          [
           "Tunisia"
          ],
          [
           "Fiji"
          ],
          [
           "Morocco"
          ],
          [
           "Singapore"
          ],
          [
           "Montenegro"
          ],
          [
           "Mali"
          ],
          [
           "Spain"
          ],
          [
           "Belarus"
          ],
          [
           "Afghanistan"
          ],
          [
           "Slovakia"
          ],
          [
           "Uganda"
          ],
          [
           "Zambia"
          ],
          [
           "Latvia"
          ],
          [
           "South Sudan"
          ],
          [
           "Argentina"
          ],
          [
           "Viet Nam"
          ],
          [
           "Vanuatu"
          ],
          [
           "Guinea"
          ],
          [
           "Liberia"
          ],
          [
           "Serbia"
          ],
          [
           "Chile"
          ],
          [
           "Eswatini"
          ],
          [
           "Ukraine"
          ],
          [
           "Ethiopia"
          ],
          [
           "Finland"
          ],
          [
           "Tajikistan"
          ],
          [
           "Lithuania"
          ],
          [
           "Cyprus"
          ],
          [
           "India"
          ],
          [
           "Israel"
          ],
          [
           "Rwanda"
          ],
          [
           "Sri Lanka"
          ],
          [
           "Bulgaria"
          ],
          [
           "Russian Federation"
          ],
          [
           "Slovenia"
          ],
          [
           "Solomon Islands"
          ],
          [
           "Guinea-Bissau"
          ],
          [
           "Pakistan"
          ],
          [
           "Egypt"
          ],
          [
           "Kazakhstan"
          ],
          [
           "Myanmar"
          ],
          [
           "Algeria"
          ],
          [
           "Gaza Strip and West Bank"
          ],
          [
           "Saudi Arabia"
          ],
          [
           "Korea, Republic of"
          ],
          [
           "Panama"
          ],
          [
           "Croatia"
          ],
          [
           "El Salvador"
          ],
          [
           "Thailand"
          ],
          [
           "Kuwait"
          ],
          [
           "Suriname"
          ],
          [
           "Bahrain"
          ],
          [
           "Nicaragua"
          ],
          [
           "Japan"
          ],
          [
           "Indonesia"
          ],
          [
           "Mauritius"
          ],
          [
           "Malaysia"
          ],
          [
           "Sudan"
          ],
          [
           "Burkina Faso"
          ],
          [
           "Cambodia"
          ],
          [
           "Lesotho"
          ],
          [
           "Bangladesh"
          ],
          [
           "Jordan"
          ],
          [
           "Lao People's Democratic Republic"
          ],
          [
           "Hungary"
          ],
          [
           "Libya"
          ],
          [
           "Kyrgyzstan"
          ],
          [
           "Turkey"
          ],
          [
           "United Arab Emirates"
          ],
          [
           "Mexico"
          ],
          [
           "Syrian Arab Republic"
          ],
          [
           "China"
          ],
          [
           "Iran, Islamic Republic of"
          ],
          [
           "Eritrea"
          ],
          [
           "Philippines"
          ],
          [
           "Lebanon"
          ],
          [
           "Republic of Moldova"
          ],
          [
           "Bosnia and Herzegovina"
          ],
          [
           "Malta"
          ],
          [
           "North Macedonia"
          ],
          [
           "Cabo Verde"
          ],
          [
           "Iraq"
          ],
          [
           "Yemen"
          ],
          [
           "Nepal"
          ],
          [
           "Iceland"
          ],
          [
           "Guyana"
          ],
          [
           "Costa Rica"
          ],
          [
           "Dominican Republic"
          ],
          [
           "Georgia"
          ],
          [
           "Bolivia, Plurinational State of"
          ],
          [
           "Albania"
          ],
          [
           "Armenia"
          ],
          [
           "The Republic of the Gambia"
          ],
          [
           "Guatemala"
          ],
          [
           "Djibouti"
          ],
          [
           "Bhutan"
          ],
          [
           "Belize"
          ],
          [
           "Timor-Leste"
          ],
          [
           "Brunei Darussalam"
          ],
          [
           "Saint Lucia"
          ],
          [
           "Sao Tome and Principe"
          ],
          [
           "Samoa"
          ],
          [
           "Maldives"
          ],
          [
           "Belize"
          ]
         ],
         "hovertemplate": "Human Development Index=%{x}<br>Incidence=%{y}<br>Population=%{customdata[0]}<extra></extra>",
         "legendgroup": "",
         "marker": {
          "color": "#636efa",
          "symbol": "circle"
         },
         "mode": "markers",
         "name": "",
         "orientation": "v",
         "showlegend": false,
         "type": "scatter",
         "x": [
          0.85,
          0.93,
          0.95,
          0.93,
          0.86,
          0.9,
          0.89,
          0.92,
          0.92,
          0.81,
          0.84,
          0.87,
          0.92,
          0.94,
          0.94,
          0.92,
          0.94,
          0.94,
          0.88,
          0.89,
          0.85,
          0.85,
          0.83,
          0.85,
          0.82,
          0.86,
          0.92,
          0.85,
          0.71,
          0.89,
          0.89,
          0.94,
          0.87,
          0.91,
          0.82,
          0.85,
          0.8,
          0.85,
          0.88,
          0.87,
          0.91,
          0.81,
          0.8,
          0.87,
          0.82,
          0.82,
          0.93,
          0.85,
          0.92,
          0.76,
          0.78,
          0.73,
          0.82,
          0.94,
          0.92,
          0.72,
          0.76,
          0.9,
          0.91,
          0.72,
          0.95,
          0.71,
          0.77,
          0.75,
          0.87,
          0.85,
          0.84,
          0.95,
          0.72,
          0.76,
          0.89,
          0.93,
          0.94,
          0.91,
          0.77,
          0.82,
          0.79,
          0.93,
          0.71,
          0.92,
          0.8,
          0.71,
          0.94,
          0.8,
          0.69,
          0.89,
          0.81,
          0.76,
          0.82,
          0.75,
          0.92,
          0.82,
          0.76,
          0.82,
          0.8,
          0.75,
          0.92,
          0.92,
          0.82,
          0.88,
          0.87,
          0.89,
          0.76,
          0.76,
          0.81,
          0.8,
          0.91,
          0.71,
          0.94,
          0.85,
          0.5,
          0.71,
          0.84,
          0.94,
          0.93,
          0.73,
          0.76,
          0.94,
          0.55,
          0.87,
          0.76,
          0.75,
          0.73,
          0.8,
          0.81,
          0.81,
          0.77,
          0.76,
          0.88,
          0.91,
          0.6,
          0.92,
          0.81,
          0.94,
          0.82,
          0.69,
          0.77,
          0.8,
          0.77,
          0.89,
          0.65,
          0.76,
          0.79,
          0.79,
          0.95,
          0.71,
          0.81,
          0.86,
          0.82,
          0.91,
          0.91,
          0.67,
          0.58,
          0.74,
          0.72,
          0.87,
          0.6,
          0.69,
          0.71,
          0.71,
          0.71,
          0.72,
          0.46,
          0.72,
          0.86,
          0.58,
          0.76,
          0.67,
          0.85,
          0.68,
          0.71,
          0.61,
          0.69,
          0.71,
          0.8,
          0.8,
          0.51,
          0.74,
          0.69,
          0.72,
          0.83,
          0.63,
          0.58,
          0.8,
          0.83,
          0.72,
          0.73,
          0.52,
          0.52,
          0.65,
          0.58,
          0.68,
          0.47,
          0.54,
          0.7,
          0.56,
          0.58,
          0.62,
          0.79,
          0.54,
          0.43,
          0.65,
          0.85,
          0.72,
          0.87,
          0.76,
          0.43,
          0.65,
          0.76,
          0.46,
          0.67,
          0.81,
          0.7,
          0.73,
          0.71,
          0.79,
          0.53,
          0.84,
          0.78,
          0.75,
          0.7,
          0.59,
          0.71,
          0.56,
          0.38,
          0.87,
          0.5,
          0.43,
          0.57,
          0.47,
          0.56,
          0.78,
          0.63,
          0.6,
          0.83,
          0.81,
          0.79,
          0.53,
          0.55,
          0.4,
          0.67,
          0.58,
          0.43,
          0.51,
          0.78,
          0.56,
          0.53,
          0.73,
          0.72,
          0.46,
          0.69,
          0.52,
          0.61,
          0.51,
          0.42,
          0.8,
          0.76,
          0.5,
          0.47,
          0.56,
          0.59,
          0.51,
          0.72,
          0.38,
          0.38,
          0.53,
          0.43,
          0.62,
          0.5,
          0.41,
          0.4,
          0.52,
          0.42,
          0.56,
          0.54,
          0.53,
          0.62,
          0.46,
          0.61,
          0.51,
          0.56,
          0.77,
          0.58,
          0.41,
          0.66,
          0.5,
          0.65,
          0.65,
          0.49,
          0.47,
          0.44,
          0.53,
          0.59,
          0.46,
          0.54,
          0.38,
          0.53,
          0.54,
          0.76,
          0.67,
          0.59,
          0.57,
          0.65,
          0.73,
          0.52,
          0.56,
          0.7,
          0.52,
          0.52,
          0.54,
          0.61,
          0.52,
          0.6,
          0.66,
          0.44,
          0.61,
          0.51,
          0.61,
          0.45,
          0.49,
          0.46,
          0.7,
          0.5,
          0.58,
          0.89,
          0.73,
          0.61,
          0.52,
          0.47,
          0.45,
          0.94,
          0.93,
          0.92,
          0.81,
          0.7,
          0.94,
          0.47,
          0.92,
          0.95,
          0.61,
          0.54,
          0.85,
          0.47,
          0.81,
          0.57,
          0.67,
          0.6,
          0.47,
          0.46,
          0.54,
          0.42,
          0.62,
          0.61,
          0.75,
          0.7,
          0.6,
          0.92,
          0.71,
          0.92,
          0.56,
          0.76,
          0.83,
          0.53,
          0.72,
          0.91,
          0.81,
          0.51,
          0.38,
          0.8,
          0.5,
          0.88,
          0.95,
          0.94,
          0.93,
          0.49,
          0.92,
          0.73,
          0.89,
          0.52,
          0.71,
          0.44,
          0.73,
          0.58,
          0.6,
          0.76,
          0.51,
          0.78,
          0.38,
          0.91,
          0.59,
          0.94,
          0.65,
          0.45,
          0.62,
          0.43,
          0.4,
          0.56,
          0.76,
          0.87,
          0.88,
          0.73,
          0.82,
          0.85,
          0.87,
          0.76,
          0.52,
          0.74,
          0.72,
          0.68,
          0.94,
          0.82,
          0.43,
          0.89,
          0.82,
          0.5,
          0.86,
          0.53,
          0.59,
          0.85,
          0.41,
          0.83,
          0.69,
          0.6,
          0.47,
          0.47,
          0.8,
          0.85,
          0.61,
          0.75,
          0.47,
          0.93,
          0.66,
          0.87,
          0.87,
          0.65,
          0.91,
          0.54,
          0.78,
          0.82,
          0.82,
          0.9,
          0.56,
          0.46,
          0.56,
          0.7,
          0.82,
          0.58,
          0.76,
          0.69,
          0.86,
          0.91,
          0.8,
          0.84,
          0.67,
          0.77,
          0.81,
          0.72,
          0.84,
          0.65,
          0.92,
          0.71,
          0.8,
          0.8,
          0.51,
          0.43,
          0.58,
          0.52,
          0.61,
          0.72,
          0.6,
          0.85,
          0.71,
          0.67,
          0.81,
          0.87,
          0.77,
          0.55,
          0.76,
          0.8,
          0.43,
          0.71,
          0.73,
          0.71,
          0.77,
          0.89,
          0.76,
          0.65,
          0.69,
          0.46,
          0.58,
          0.94,
          0.67,
          0.79,
          0.75,
          0.79,
          0.7,
          0.79,
          0.76,
          0.47,
          0.65,
          0.5,
          0.62,
          0.72,
          0.63,
          0.85,
          0.75,
          0.61,
          0.71,
          0.72,
          0.72
         ],
         "xaxis": "x",
         "y": [
          29.2,
          27.7,
          26.6,
          26.4,
          24.8,
          24.8,
          23.3,
          23.3,
          23.1,
          22.9,
          22.5,
          21.9,
          21.7,
          21.3,
          21.2,
          21.2,
          20.4,
          20.2,
          20,
          19.9,
          19.6,
          19.6,
          19.5,
          19.6,
          18.5,
          24.8,
          18,
          18,
          17.8,
          17.8,
          17.7,
          17.3,
          17.2,
          17.1,
          17.1,
          18,
          16.9,
          19.6,
          16.6,
          16.5,
          16.4,
          16.2,
          16.9,
          16.2,
          16,
          15.9,
          15.9,
          29.2,
          15.9,
          15.8,
          15.6,
          15.5,
          15.4,
          15.1,
          23.3,
          14.9,
          14.5,
          24.8,
          14.4,
          14.4,
          26.6,
          14.4,
          14,
          13.8,
          16.2,
          13.5,
          22.5,
          13.3,
          13.1,
          13.1,
          19.9,
          26.4,
          21.3,
          12.9,
          14,
          17.1,
          12.6,
          27.7,
          12.3,
          18,
          12.1,
          17.8,
          20.4,
          12,
          11.9,
          23.3,
          11.9,
          11.8,
          18.5,
          11.6,
          21.2,
          15.4,
          14.5,
          16,
          11.3,
          13.8,
          21.7,
          23.1,
          15.9,
          16.6,
          16.5,
          17.8,
          13.1,
          10.6,
          10.6,
          10.5,
          16.4,
          14.4,
          21.2,
          10,
          9.9,
          9.8,
          9.6,
          17.3,
          15.9,
          9.3,
          9.2,
          15.1,
          9.1,
          9.1,
          9,
          8.9,
          8.7,
          8.6,
          8.6,
          11.9,
          8.6,
          8.5,
          20,
          17.1,
          8.3,
          15.9,
          22.9,
          20.2,
          8.1,
          8.1,
          8.6,
          11.3,
          8,
          17.7,
          7.8,
          10.6,
          7.8,
          7.8,
          13.3,
          7.4,
          16.2,
          7.4,
          8.1,
          12.9,
          14.4,
          7,
          6.9,
          6.8,
          6.7,
          17.2,
          8.3,
          11.9,
          6.3,
          7.4,
          12.3,
          6.7,
          6.3,
          6.2,
          7.4,
          6.2,
          9,
          6,
          13.5,
          6,
          6.3,
          5.7,
          8.1,
          9.8,
          12,
          12.1,
          5.5,
          6.8,
          5.4,
          5.3,
          5.2,
          5.2,
          6.9,
          8.6,
          19.5,
          5.3,
          15.5,
          5,
          4.9,
          4.9,
          4.9,
          6,
          4.7,
          4.6,
          4.5,
          4.5,
          4.9,
          4.5,
          12.6,
          4.6,
          4.4,
          4.4,
          10,
          13.1,
          21.9,
          11.8,
          4.4,
          4.4,
          15.8,
          6.3,
          4.1,
          10.6,
          4,
          9.3,
          4,
          4,
          4,
          9.6,
          4,
          8.9,
          3.9,
          3.9,
          4,
          3.9,
          3.8,
          9.1,
          3.8,
          3.8,
          3.8,
          4.7,
          3.8,
          15.6,
          5.2,
          3.7,
          5.2,
          8.6,
          4,
          3.6,
          9.1,
          3.5,
          4.1,
          6.2,
          3.8,
          3.5,
          4,
          4.5,
          3.3,
          8.7,
          14.4,
          3.2,
          5.4,
          3.1,
          3.1,
          3.1,
          3.1,
          10.5,
          9.2,
          3.8,
          3,
          3,
          3,
          3.1,
          14.9,
          2.9,
          2.9,
          3.3,
          2.9,
          4.5,
          2.8,
          2.7,
          3.5,
          2.7,
          3.1,
          3.8,
          2.6,
          3.6,
          2.6,
          2.6,
          2.5,
          3.5,
          3.9,
          8,
          2.4,
          2.7,
          2.4,
          2.8,
          7.8,
          2.3,
          2.3,
          2.3,
          2.3,
          3.6,
          3.9,
          3.2,
          2.6,
          3.8,
          4,
          4.6,
          8.5,
          6,
          3,
          3.8,
          2.3,
          2,
          4.9,
          3,
          3.9,
          3.1,
          2.7,
          1.9,
          1.9,
          5,
          1.9,
          2.4,
          2.3,
          5.7,
          5.5,
          3.1,
          1.8,
          2.3,
          2.6,
          4,
          9.9,
          2.4,
          17.8,
          2,
          1.9,
          2.7,
          1.6,
          1.8,
          15.1,
          26.4,
          15.9,
          16.2,
          3.9,
          21.2,
          3,
          21.2,
          13.3,
          3.1,
          1.9,
          10,
          2.3,
          10.6,
          3.8,
          7,
          1.9,
          1.6,
          3.2,
          1.9,
          3.1,
          2.6,
          2.5,
          11.6,
          4.5,
          3.7,
          18,
          4,
          23.1,
          4.5,
          10.6,
          5.2,
          4,
          14.4,
          12.9,
          22.9,
          5.5,
          3.8,
          12.1,
          9.9,
          20,
          26.6,
          17.3,
          27.7,
          2.3,
          21.7,
          9.3,
          19.9,
          5,
          7.4,
          2.3,
          2,
          6.2,
          1.9,
          11.8,
          3.5,
          15.6,
          2.9,
          17.1,
          3.9,
          21.3,
          4.9,
          1.8,
          4.5,
          2.9,
          3.5,
          3.8,
          8.5,
          21.9,
          16.6,
          15.5,
          18.5,
          19.6,
          16.2,
          9.2,
          4.9,
          6.8,
          5.3,
          6,
          20.4,
          15.4,
          4.4,
          23.3,
          17.1,
          2.8,
          24.8,
          3.3,
          3,
          19.6,
          2.7,
          19.5,
          8.1,
          3.7,
          1.6,
          3,
          16.9,
          13.5,
          2.5,
          13.8,
          4.7,
          15.9,
          2.4,
          16.5,
          17.2,
          2.3,
          14.4,
          2.6,
          4,
          15.9,
          16,
          24.8,
          3.9,
          2.6,
          3,
          4,
          8.1,
          4.9,
          9,
          11.9,
          7.4,
          16.4,
          10.5,
          22.5,
          6,
          8.6,
          8.6,
          14.9,
          9.6,
          7.8,
          23.3,
          6.3,
          12,
          11.3,
          3.1,
          2.9,
          6.9,
          3.1,
          1.9,
          13.1,
          8.3,
          29.2,
          9.8,
          4.1,
          11.9,
          9.1,
          8,
          9.1,
          13.1,
          8.6,
          3.8,
          12.3,
          8.7,
          17.8,
          14,
          17.7,
          14.5,
          4.4,
          5.4,
          6.3,
          2.4,
          20.2,
          7,
          12.6,
          11.6,
          7.8,
          4.5,
          4,
          15.8,
          2.3,
          4.9,
          3.8,
          2.6,
          6.2,
          5.2,
          18,
          8.9,
          5.7,
          14.4,
          6.7,
          6.2
         ],
         "yaxis": "y"
        },
        {
         "hovertemplate": "<b>OLS trendline</b><br>Incidence = 36.087 * Human Development Index + -15.4327<br>R<sup>2</sup>=0.651563<br><br>Human Development Index=%{x}<br>Incidence=%{y} <b>(trend)</b><extra></extra>",
         "legendgroup": "",
         "line": {
          "color": "black"
         },
         "marker": {
          "color": "#636efa",
          "symbol": "circle"
         },
         "mode": "lines",
         "name": "",
         "showlegend": false,
         "type": "scatter",
         "x": [
          0.38,
          0.38,
          0.38,
          0.38,
          0.38,
          0.38,
          0.4,
          0.4,
          0.4,
          0.41,
          0.41,
          0.41,
          0.42,
          0.42,
          0.42,
          0.43,
          0.43,
          0.43,
          0.43,
          0.43,
          0.43,
          0.43,
          0.43,
          0.43,
          0.44,
          0.44,
          0.44,
          0.45,
          0.45,
          0.45,
          0.46,
          0.46,
          0.46,
          0.46,
          0.46,
          0.46,
          0.46,
          0.46,
          0.46,
          0.47,
          0.47,
          0.47,
          0.47,
          0.47,
          0.47,
          0.47,
          0.47,
          0.47,
          0.47,
          0.47,
          0.47,
          0.49,
          0.49,
          0.49,
          0.5,
          0.5,
          0.5,
          0.5,
          0.5,
          0.5,
          0.5,
          0.5,
          0.5,
          0.51,
          0.51,
          0.51,
          0.51,
          0.51,
          0.51,
          0.51,
          0.51,
          0.51,
          0.52,
          0.52,
          0.52,
          0.52,
          0.52,
          0.52,
          0.52,
          0.52,
          0.52,
          0.52,
          0.52,
          0.52,
          0.53,
          0.53,
          0.53,
          0.53,
          0.53,
          0.53,
          0.53,
          0.53,
          0.53,
          0.54,
          0.54,
          0.54,
          0.54,
          0.54,
          0.54,
          0.54,
          0.54,
          0.54,
          0.55,
          0.55,
          0.55,
          0.56,
          0.56,
          0.56,
          0.56,
          0.56,
          0.56,
          0.56,
          0.56,
          0.56,
          0.56,
          0.56,
          0.56,
          0.57,
          0.57,
          0.57,
          0.58,
          0.58,
          0.58,
          0.58,
          0.58,
          0.58,
          0.58,
          0.58,
          0.58,
          0.58,
          0.58,
          0.58,
          0.59,
          0.59,
          0.59,
          0.59,
          0.59,
          0.59,
          0.6,
          0.6,
          0.6,
          0.6,
          0.6,
          0.6,
          0.6,
          0.6,
          0.6,
          0.61,
          0.61,
          0.61,
          0.61,
          0.61,
          0.61,
          0.61,
          0.61,
          0.61,
          0.61,
          0.61,
          0.61,
          0.62,
          0.62,
          0.62,
          0.62,
          0.62,
          0.62,
          0.63,
          0.63,
          0.63,
          0.65,
          0.65,
          0.65,
          0.65,
          0.65,
          0.65,
          0.65,
          0.65,
          0.65,
          0.65,
          0.65,
          0.65,
          0.66,
          0.66,
          0.66,
          0.67,
          0.67,
          0.67,
          0.67,
          0.67,
          0.67,
          0.67,
          0.67,
          0.67,
          0.68,
          0.68,
          0.68,
          0.69,
          0.69,
          0.69,
          0.69,
          0.69,
          0.69,
          0.69,
          0.69,
          0.69,
          0.7,
          0.7,
          0.7,
          0.7,
          0.7,
          0.7,
          0.7,
          0.7,
          0.7,
          0.71,
          0.71,
          0.71,
          0.71,
          0.71,
          0.71,
          0.71,
          0.71,
          0.71,
          0.71,
          0.71,
          0.71,
          0.71,
          0.71,
          0.71,
          0.71,
          0.71,
          0.71,
          0.71,
          0.71,
          0.71,
          0.72,
          0.72,
          0.72,
          0.72,
          0.72,
          0.72,
          0.72,
          0.72,
          0.72,
          0.72,
          0.72,
          0.72,
          0.72,
          0.72,
          0.72,
          0.72,
          0.72,
          0.72,
          0.73,
          0.73,
          0.73,
          0.73,
          0.73,
          0.73,
          0.73,
          0.73,
          0.73,
          0.73,
          0.73,
          0.73,
          0.74,
          0.74,
          0.74,
          0.75,
          0.75,
          0.75,
          0.75,
          0.75,
          0.75,
          0.75,
          0.75,
          0.75,
          0.76,
          0.76,
          0.76,
          0.76,
          0.76,
          0.76,
          0.76,
          0.76,
          0.76,
          0.76,
          0.76,
          0.76,
          0.76,
          0.76,
          0.76,
          0.76,
          0.76,
          0.76,
          0.76,
          0.76,
          0.76,
          0.76,
          0.76,
          0.76,
          0.77,
          0.77,
          0.77,
          0.77,
          0.77,
          0.77,
          0.77,
          0.77,
          0.77,
          0.78,
          0.78,
          0.78,
          0.78,
          0.78,
          0.78,
          0.79,
          0.79,
          0.79,
          0.79,
          0.79,
          0.79,
          0.79,
          0.79,
          0.79,
          0.8,
          0.8,
          0.8,
          0.8,
          0.8,
          0.8,
          0.8,
          0.8,
          0.8,
          0.8,
          0.8,
          0.8,
          0.8,
          0.8,
          0.8,
          0.8,
          0.8,
          0.8,
          0.81,
          0.81,
          0.81,
          0.81,
          0.81,
          0.81,
          0.81,
          0.81,
          0.81,
          0.81,
          0.81,
          0.81,
          0.81,
          0.81,
          0.81,
          0.82,
          0.82,
          0.82,
          0.82,
          0.82,
          0.82,
          0.82,
          0.82,
          0.82,
          0.82,
          0.82,
          0.82,
          0.82,
          0.82,
          0.82,
          0.82,
          0.82,
          0.82,
          0.83,
          0.83,
          0.83,
          0.83,
          0.83,
          0.83,
          0.84,
          0.84,
          0.84,
          0.84,
          0.84,
          0.84,
          0.85,
          0.85,
          0.85,
          0.85,
          0.85,
          0.85,
          0.85,
          0.85,
          0.85,
          0.85,
          0.85,
          0.85,
          0.85,
          0.85,
          0.85,
          0.85,
          0.85,
          0.85,
          0.86,
          0.86,
          0.86,
          0.86,
          0.86,
          0.86,
          0.87,
          0.87,
          0.87,
          0.87,
          0.87,
          0.87,
          0.87,
          0.87,
          0.87,
          0.87,
          0.87,
          0.87,
          0.87,
          0.87,
          0.87,
          0.88,
          0.88,
          0.88,
          0.88,
          0.88,
          0.88,
          0.89,
          0.89,
          0.89,
          0.89,
          0.89,
          0.89,
          0.89,
          0.89,
          0.89,
          0.89,
          0.89,
          0.89,
          0.9,
          0.9,
          0.9,
          0.91,
          0.91,
          0.91,
          0.91,
          0.91,
          0.91,
          0.91,
          0.91,
          0.91,
          0.91,
          0.91,
          0.91,
          0.92,
          0.92,
          0.92,
          0.92,
          0.92,
          0.92,
          0.92,
          0.92,
          0.92,
          0.92,
          0.92,
          0.92,
          0.92,
          0.92,
          0.92,
          0.92,
          0.92,
          0.92,
          0.93,
          0.93,
          0.93,
          0.93,
          0.93,
          0.93,
          0.93,
          0.93,
          0.93,
          0.94,
          0.94,
          0.94,
          0.94,
          0.94,
          0.94,
          0.94,
          0.94,
          0.94,
          0.94,
          0.94,
          0.94,
          0.94,
          0.94,
          0.94,
          0.94,
          0.94,
          0.94,
          0.95,
          0.95,
          0.95,
          0.95,
          0.95,
          0.95
         ],
         "xaxis": "x",
         "y": [
          -1.7196122193658656,
          -1.7196122193658656,
          -1.7196122193658656,
          -1.7196122193658656,
          -1.7196122193658656,
          -1.7196122193658656,
          -0.9978717935862793,
          -0.9978717935862793,
          -0.9978717935862793,
          -0.6370015806964879,
          -0.6370015806964879,
          -0.6370015806964879,
          -0.2761313678066948,
          -0.2761313678066948,
          -0.2761313678066948,
          0.08473884508310014,
          0.08473884508310014,
          0.08473884508310014,
          0.08473884508310014,
          0.08473884508310014,
          0.08473884508310014,
          0.08473884508310014,
          0.08473884508310014,
          0.08473884508310014,
          0.4456090579728933,
          0.4456090579728933,
          0.4456090579728933,
          0.8064792708626864,
          0.8064792708626864,
          0.8064792708626864,
          1.1673494837524796,
          1.1673494837524796,
          1.1673494837524796,
          1.1673494837524796,
          1.1673494837524796,
          1.1673494837524796,
          1.1673494837524796,
          1.1673494837524796,
          1.1673494837524796,
          1.5282196966422728,
          1.5282196966422728,
          1.5282196966422728,
          1.5282196966422728,
          1.5282196966422728,
          1.5282196966422728,
          1.5282196966422728,
          1.5282196966422728,
          1.5282196966422728,
          1.5282196966422728,
          1.5282196966422728,
          1.5282196966422728,
          2.249960122421859,
          2.249960122421859,
          2.249960122421859,
          2.610830335311652,
          2.610830335311652,
          2.610830335311652,
          2.610830335311652,
          2.610830335311652,
          2.610830335311652,
          2.610830335311652,
          2.610830335311652,
          2.610830335311652,
          2.9717005482014454,
          2.9717005482014454,
          2.9717005482014454,
          2.9717005482014454,
          2.9717005482014454,
          2.9717005482014454,
          2.9717005482014454,
          2.9717005482014454,
          2.9717005482014454,
          3.3325707610912385,
          3.3325707610912385,
          3.3325707610912385,
          3.3325707610912385,
          3.3325707610912385,
          3.3325707610912385,
          3.3325707610912385,
          3.3325707610912385,
          3.3325707610912385,
          3.3325707610912385,
          3.3325707610912385,
          3.3325707610912385,
          3.6934409739810317,
          3.6934409739810317,
          3.6934409739810317,
          3.6934409739810317,
          3.6934409739810317,
          3.6934409739810317,
          3.6934409739810317,
          3.6934409739810317,
          3.6934409739810317,
          4.054311186870825,
          4.054311186870825,
          4.054311186870825,
          4.054311186870825,
          4.054311186870825,
          4.054311186870825,
          4.054311186870825,
          4.054311186870825,
          4.054311186870825,
          4.4151813997606215,
          4.4151813997606215,
          4.4151813997606215,
          4.776051612650415,
          4.776051612650415,
          4.776051612650415,
          4.776051612650415,
          4.776051612650415,
          4.776051612650415,
          4.776051612650415,
          4.776051612650415,
          4.776051612650415,
          4.776051612650415,
          4.776051612650415,
          4.776051612650415,
          5.136921825540204,
          5.136921825540204,
          5.136921825540204,
          5.497792038429997,
          5.497792038429997,
          5.497792038429997,
          5.497792038429997,
          5.497792038429997,
          5.497792038429997,
          5.497792038429997,
          5.497792038429997,
          5.497792038429997,
          5.497792038429997,
          5.497792038429997,
          5.497792038429997,
          5.858662251319791,
          5.858662251319791,
          5.858662251319791,
          5.858662251319791,
          5.858662251319791,
          5.858662251319791,
          6.219532464209584,
          6.219532464209584,
          6.219532464209584,
          6.219532464209584,
          6.219532464209584,
          6.219532464209584,
          6.219532464209584,
          6.219532464209584,
          6.219532464209584,
          6.580402677099377,
          6.580402677099377,
          6.580402677099377,
          6.580402677099377,
          6.580402677099377,
          6.580402677099377,
          6.580402677099377,
          6.580402677099377,
          6.580402677099377,
          6.580402677099377,
          6.580402677099377,
          6.580402677099377,
          6.94127288998917,
          6.94127288998917,
          6.94127288998917,
          6.94127288998917,
          6.94127288998917,
          6.94127288998917,
          7.302143102878963,
          7.302143102878963,
          7.302143102878963,
          8.023883528658553,
          8.023883528658553,
          8.023883528658553,
          8.023883528658553,
          8.023883528658553,
          8.023883528658553,
          8.023883528658553,
          8.023883528658553,
          8.023883528658553,
          8.023883528658553,
          8.023883528658553,
          8.023883528658553,
          8.384753741548346,
          8.384753741548346,
          8.384753741548346,
          8.74562395443814,
          8.74562395443814,
          8.74562395443814,
          8.74562395443814,
          8.74562395443814,
          8.74562395443814,
          8.74562395443814,
          8.74562395443814,
          8.74562395443814,
          9.106494167327932,
          9.106494167327932,
          9.106494167327932,
          9.467364380217722,
          9.467364380217722,
          9.467364380217722,
          9.467364380217722,
          9.467364380217722,
          9.467364380217722,
          9.467364380217722,
          9.467364380217722,
          9.467364380217722,
          9.828234593107515,
          9.828234593107515,
          9.828234593107515,
          9.828234593107515,
          9.828234593107515,
          9.828234593107515,
          9.828234593107515,
          9.828234593107515,
          9.828234593107515,
          10.189104805997308,
          10.189104805997308,
          10.189104805997308,
          10.189104805997308,
          10.189104805997308,
          10.189104805997308,
          10.189104805997308,
          10.189104805997308,
          10.189104805997308,
          10.189104805997308,
          10.189104805997308,
          10.189104805997308,
          10.189104805997308,
          10.189104805997308,
          10.189104805997308,
          10.189104805997308,
          10.189104805997308,
          10.189104805997308,
          10.189104805997308,
          10.189104805997308,
          10.189104805997308,
          10.549975018887102,
          10.549975018887102,
          10.549975018887102,
          10.549975018887102,
          10.549975018887102,
          10.549975018887102,
          10.549975018887102,
          10.549975018887102,
          10.549975018887102,
          10.549975018887102,
          10.549975018887102,
          10.549975018887102,
          10.549975018887102,
          10.549975018887102,
          10.549975018887102,
          10.549975018887102,
          10.549975018887102,
          10.549975018887102,
          10.910845231776895,
          10.910845231776895,
          10.910845231776895,
          10.910845231776895,
          10.910845231776895,
          10.910845231776895,
          10.910845231776895,
          10.910845231776895,
          10.910845231776895,
          10.910845231776895,
          10.910845231776895,
          10.910845231776895,
          11.271715444666688,
          11.271715444666688,
          11.271715444666688,
          11.632585657556485,
          11.632585657556485,
          11.632585657556485,
          11.632585657556485,
          11.632585657556485,
          11.632585657556485,
          11.632585657556485,
          11.632585657556485,
          11.632585657556485,
          11.993455870446278,
          11.993455870446278,
          11.993455870446278,
          11.993455870446278,
          11.993455870446278,
          11.993455870446278,
          11.993455870446278,
          11.993455870446278,
          11.993455870446278,
          11.993455870446278,
          11.993455870446278,
          11.993455870446278,
          11.993455870446278,
          11.993455870446278,
          11.993455870446278,
          11.993455870446278,
          11.993455870446278,
          11.993455870446278,
          11.993455870446278,
          11.993455870446278,
          11.993455870446278,
          11.993455870446278,
          11.993455870446278,
          11.993455870446278,
          12.35432608333607,
          12.35432608333607,
          12.35432608333607,
          12.35432608333607,
          12.35432608333607,
          12.35432608333607,
          12.35432608333607,
          12.35432608333607,
          12.35432608333607,
          12.715196296225864,
          12.715196296225864,
          12.715196296225864,
          12.715196296225864,
          12.715196296225864,
          12.715196296225864,
          13.076066509115657,
          13.076066509115657,
          13.076066509115657,
          13.076066509115657,
          13.076066509115657,
          13.076066509115657,
          13.076066509115657,
          13.076066509115657,
          13.076066509115657,
          13.43693672200545,
          13.43693672200545,
          13.43693672200545,
          13.43693672200545,
          13.43693672200545,
          13.43693672200545,
          13.43693672200545,
          13.43693672200545,
          13.43693672200545,
          13.43693672200545,
          13.43693672200545,
          13.43693672200545,
          13.43693672200545,
          13.43693672200545,
          13.43693672200545,
          13.43693672200545,
          13.43693672200545,
          13.43693672200545,
          13.797806934895243,
          13.797806934895243,
          13.797806934895243,
          13.797806934895243,
          13.797806934895243,
          13.797806934895243,
          13.797806934895243,
          13.797806934895243,
          13.797806934895243,
          13.797806934895243,
          13.797806934895243,
          13.797806934895243,
          13.797806934895243,
          13.797806934895243,
          13.797806934895243,
          14.158677147785033,
          14.158677147785033,
          14.158677147785033,
          14.158677147785033,
          14.158677147785033,
          14.158677147785033,
          14.158677147785033,
          14.158677147785033,
          14.158677147785033,
          14.158677147785033,
          14.158677147785033,
          14.158677147785033,
          14.158677147785033,
          14.158677147785033,
          14.158677147785033,
          14.158677147785033,
          14.158677147785033,
          14.158677147785033,
          14.519547360674826,
          14.519547360674826,
          14.519547360674826,
          14.519547360674826,
          14.519547360674826,
          14.519547360674826,
          14.88041757356462,
          14.88041757356462,
          14.88041757356462,
          14.88041757356462,
          14.88041757356462,
          14.88041757356462,
          15.241287786454413,
          15.241287786454413,
          15.241287786454413,
          15.241287786454413,
          15.241287786454413,
          15.241287786454413,
          15.241287786454413,
          15.241287786454413,
          15.241287786454413,
          15.241287786454413,
          15.241287786454413,
          15.241287786454413,
          15.241287786454413,
          15.241287786454413,
          15.241287786454413,
          15.241287786454413,
          15.241287786454413,
          15.241287786454413,
          15.60215799934421,
          15.60215799934421,
          15.60215799934421,
          15.60215799934421,
          15.60215799934421,
          15.60215799934421,
          15.963028212234002,
          15.963028212234002,
          15.963028212234002,
          15.963028212234002,
          15.963028212234002,
          15.963028212234002,
          15.963028212234002,
          15.963028212234002,
          15.963028212234002,
          15.963028212234002,
          15.963028212234002,
          15.963028212234002,
          15.963028212234002,
          15.963028212234002,
          15.963028212234002,
          16.323898425123794,
          16.323898425123794,
          16.323898425123794,
          16.323898425123794,
          16.323898425123794,
          16.323898425123794,
          16.684768638013587,
          16.684768638013587,
          16.684768638013587,
          16.684768638013587,
          16.684768638013587,
          16.684768638013587,
          16.684768638013587,
          16.684768638013587,
          16.684768638013587,
          16.684768638013587,
          16.684768638013587,
          16.684768638013587,
          17.04563885090338,
          17.04563885090338,
          17.04563885090338,
          17.406509063793173,
          17.406509063793173,
          17.406509063793173,
          17.406509063793173,
          17.406509063793173,
          17.406509063793173,
          17.406509063793173,
          17.406509063793173,
          17.406509063793173,
          17.406509063793173,
          17.406509063793173,
          17.406509063793173,
          17.767379276682966,
          17.767379276682966,
          17.767379276682966,
          17.767379276682966,
          17.767379276682966,
          17.767379276682966,
          17.767379276682966,
          17.767379276682966,
          17.767379276682966,
          17.767379276682966,
          17.767379276682966,
          17.767379276682966,
          17.767379276682966,
          17.767379276682966,
          17.767379276682966,
          17.767379276682966,
          17.767379276682966,
          17.767379276682966,
          18.12824948957276,
          18.12824948957276,
          18.12824948957276,
          18.12824948957276,
          18.12824948957276,
          18.12824948957276,
          18.12824948957276,
          18.12824948957276,
          18.12824948957276,
          18.489119702462553,
          18.489119702462553,
          18.489119702462553,
          18.489119702462553,
          18.489119702462553,
          18.489119702462553,
          18.489119702462553,
          18.489119702462553,
          18.489119702462553,
          18.489119702462553,
          18.489119702462553,
          18.489119702462553,
          18.489119702462553,
          18.489119702462553,
          18.489119702462553,
          18.489119702462553,
          18.489119702462553,
          18.489119702462553,
          18.849989915352346,
          18.849989915352346,
          18.849989915352346,
          18.849989915352346,
          18.849989915352346,
          18.849989915352346
         ],
         "yaxis": "y"
        }
       ],
       "layout": {
        "legend": {
         "tracegroupgap": 0
        },
        "template": {
         "data": {
          "bar": [
           {
            "error_x": {
             "color": "#2a3f5f"
            },
            "error_y": {
             "color": "#2a3f5f"
            },
            "marker": {
             "line": {
              "color": "#E5ECF6",
              "width": 0.5
             },
             "pattern": {
              "fillmode": "overlay",
              "size": 10,
              "solidity": 0.2
             }
            },
            "type": "bar"
           }
          ],
          "barpolar": [
           {
            "marker": {
             "line": {
              "color": "#E5ECF6",
              "width": 0.5
             },
             "pattern": {
              "fillmode": "overlay",
              "size": 10,
              "solidity": 0.2
             }
            },
            "type": "barpolar"
           }
          ],
          "carpet": [
           {
            "aaxis": {
             "endlinecolor": "#2a3f5f",
             "gridcolor": "white",
             "linecolor": "white",
             "minorgridcolor": "white",
             "startlinecolor": "#2a3f5f"
            },
            "baxis": {
             "endlinecolor": "#2a3f5f",
             "gridcolor": "white",
             "linecolor": "white",
             "minorgridcolor": "white",
             "startlinecolor": "#2a3f5f"
            },
            "type": "carpet"
           }
          ],
          "choropleth": [
           {
            "colorbar": {
             "outlinewidth": 0,
             "ticks": ""
            },
            "type": "choropleth"
           }
          ],
          "contour": [
           {
            "colorbar": {
             "outlinewidth": 0,
             "ticks": ""
            },
            "colorscale": [
             [
              0,
              "#0d0887"
             ],
             [
              0.1111111111111111,
              "#46039f"
             ],
             [
              0.2222222222222222,
              "#7201a8"
             ],
             [
              0.3333333333333333,
              "#9c179e"
             ],
             [
              0.4444444444444444,
              "#bd3786"
             ],
             [
              0.5555555555555556,
              "#d8576b"
             ],
             [
              0.6666666666666666,
              "#ed7953"
             ],
             [
              0.7777777777777778,
              "#fb9f3a"
             ],
             [
              0.8888888888888888,
              "#fdca26"
             ],
             [
              1,
              "#f0f921"
             ]
            ],
            "type": "contour"
           }
          ],
          "contourcarpet": [
           {
            "colorbar": {
             "outlinewidth": 0,
             "ticks": ""
            },
            "type": "contourcarpet"
           }
          ],
          "heatmap": [
           {
            "colorbar": {
             "outlinewidth": 0,
             "ticks": ""
            },
            "colorscale": [
             [
              0,
              "#0d0887"
             ],
             [
              0.1111111111111111,
              "#46039f"
             ],
             [
              0.2222222222222222,
              "#7201a8"
             ],
             [
              0.3333333333333333,
              "#9c179e"
             ],
             [
              0.4444444444444444,
              "#bd3786"
             ],
             [
              0.5555555555555556,
              "#d8576b"
             ],
             [
              0.6666666666666666,
              "#ed7953"
             ],
             [
              0.7777777777777778,
              "#fb9f3a"
             ],
             [
              0.8888888888888888,
              "#fdca26"
             ],
             [
              1,
              "#f0f921"
             ]
            ],
            "type": "heatmap"
           }
          ],
          "heatmapgl": [
           {
            "colorbar": {
             "outlinewidth": 0,
             "ticks": ""
            },
            "colorscale": [
             [
              0,
              "#0d0887"
             ],
             [
              0.1111111111111111,
              "#46039f"
             ],
             [
              0.2222222222222222,
              "#7201a8"
             ],
             [
              0.3333333333333333,
              "#9c179e"
             ],
             [
              0.4444444444444444,
              "#bd3786"
             ],
             [
              0.5555555555555556,
              "#d8576b"
             ],
             [
              0.6666666666666666,
              "#ed7953"
             ],
             [
              0.7777777777777778,
              "#fb9f3a"
             ],
             [
              0.8888888888888888,
              "#fdca26"
             ],
             [
              1,
              "#f0f921"
             ]
            ],
            "type": "heatmapgl"
           }
          ],
          "histogram": [
           {
            "marker": {
             "pattern": {
              "fillmode": "overlay",
              "size": 10,
              "solidity": 0.2
             }
            },
            "type": "histogram"
           }
          ],
          "histogram2d": [
           {
            "colorbar": {
             "outlinewidth": 0,
             "ticks": ""
            },
            "colorscale": [
             [
              0,
              "#0d0887"
             ],
             [
              0.1111111111111111,
              "#46039f"
             ],
             [
              0.2222222222222222,
              "#7201a8"
             ],
             [
              0.3333333333333333,
              "#9c179e"
             ],
             [
              0.4444444444444444,
              "#bd3786"
             ],
             [
              0.5555555555555556,
              "#d8576b"
             ],
             [
              0.6666666666666666,
              "#ed7953"
             ],
             [
              0.7777777777777778,
              "#fb9f3a"
             ],
             [
              0.8888888888888888,
              "#fdca26"
             ],
             [
              1,
              "#f0f921"
             ]
            ],
            "type": "histogram2d"
           }
          ],
          "histogram2dcontour": [
           {
            "colorbar": {
             "outlinewidth": 0,
             "ticks": ""
            },
            "colorscale": [
             [
              0,
              "#0d0887"
             ],
             [
              0.1111111111111111,
              "#46039f"
             ],
             [
              0.2222222222222222,
              "#7201a8"
             ],
             [
              0.3333333333333333,
              "#9c179e"
             ],
             [
              0.4444444444444444,
              "#bd3786"
             ],
             [
              0.5555555555555556,
              "#d8576b"
             ],
             [
              0.6666666666666666,
              "#ed7953"
             ],
             [
              0.7777777777777778,
              "#fb9f3a"
             ],
             [
              0.8888888888888888,
              "#fdca26"
             ],
             [
              1,
              "#f0f921"
             ]
            ],
            "type": "histogram2dcontour"
           }
          ],
          "mesh3d": [
           {
            "colorbar": {
             "outlinewidth": 0,
             "ticks": ""
            },
            "type": "mesh3d"
           }
          ],
          "parcoords": [
           {
            "line": {
             "colorbar": {
              "outlinewidth": 0,
              "ticks": ""
             }
            },
            "type": "parcoords"
           }
          ],
          "pie": [
           {
            "automargin": true,
            "type": "pie"
           }
          ],
          "scatter": [
           {
            "fillpattern": {
             "fillmode": "overlay",
             "size": 10,
             "solidity": 0.2
            },
            "type": "scatter"
           }
          ],
          "scatter3d": [
           {
            "line": {
             "colorbar": {
              "outlinewidth": 0,
              "ticks": ""
             }
            },
            "marker": {
             "colorbar": {
              "outlinewidth": 0,
              "ticks": ""
             }
            },
            "type": "scatter3d"
           }
          ],
          "scattercarpet": [
           {
            "marker": {
             "colorbar": {
              "outlinewidth": 0,
              "ticks": ""
             }
            },
            "type": "scattercarpet"
           }
          ],
          "scattergeo": [
           {
            "marker": {
             "colorbar": {
              "outlinewidth": 0,
              "ticks": ""
             }
            },
            "type": "scattergeo"
           }
          ],
          "scattergl": [
           {
            "marker": {
             "colorbar": {
              "outlinewidth": 0,
              "ticks": ""
             }
            },
            "type": "scattergl"
           }
          ],
          "scattermapbox": [
           {
            "marker": {
             "colorbar": {
              "outlinewidth": 0,
              "ticks": ""
             }
            },
            "type": "scattermapbox"
           }
          ],
          "scatterpolar": [
           {
            "marker": {
             "colorbar": {
              "outlinewidth": 0,
              "ticks": ""
             }
            },
            "type": "scatterpolar"
           }
          ],
          "scatterpolargl": [
           {
            "marker": {
             "colorbar": {
              "outlinewidth": 0,
              "ticks": ""
             }
            },
            "type": "scatterpolargl"
           }
          ],
          "scatterternary": [
           {
            "marker": {
             "colorbar": {
              "outlinewidth": 0,
              "ticks": ""
             }
            },
            "type": "scatterternary"
           }
          ],
          "surface": [
           {
            "colorbar": {
             "outlinewidth": 0,
             "ticks": ""
            },
            "colorscale": [
             [
              0,
              "#0d0887"
             ],
             [
              0.1111111111111111,
              "#46039f"
             ],
             [
              0.2222222222222222,
              "#7201a8"
             ],
             [
              0.3333333333333333,
              "#9c179e"
             ],
             [
              0.4444444444444444,
              "#bd3786"
             ],
             [
              0.5555555555555556,
              "#d8576b"
             ],
             [
              0.6666666666666666,
              "#ed7953"
             ],
             [
              0.7777777777777778,
              "#fb9f3a"
             ],
             [
              0.8888888888888888,
              "#fdca26"
             ],
             [
              1,
              "#f0f921"
             ]
            ],
            "type": "surface"
           }
          ],
          "table": [
           {
            "cells": {
             "fill": {
              "color": "#EBF0F8"
             },
             "line": {
              "color": "white"
             }
            },
            "header": {
             "fill": {
              "color": "#C8D4E3"
             },
             "line": {
              "color": "white"
             }
            },
            "type": "table"
           }
          ]
         },
         "layout": {
          "annotationdefaults": {
           "arrowcolor": "#2a3f5f",
           "arrowhead": 0,
           "arrowwidth": 1
          },
          "autotypenumbers": "strict",
          "coloraxis": {
           "colorbar": {
            "outlinewidth": 0,
            "ticks": ""
           }
          },
          "colorscale": {
           "diverging": [
            [
             0,
             "#8e0152"
            ],
            [
             0.1,
             "#c51b7d"
            ],
            [
             0.2,
             "#de77ae"
            ],
            [
             0.3,
             "#f1b6da"
            ],
            [
             0.4,
             "#fde0ef"
            ],
            [
             0.5,
             "#f7f7f7"
            ],
            [
             0.6,
             "#e6f5d0"
            ],
            [
             0.7,
             "#b8e186"
            ],
            [
             0.8,
             "#7fbc41"
            ],
            [
             0.9,
             "#4d9221"
            ],
            [
             1,
             "#276419"
            ]
           ],
           "sequential": [
            [
             0,
             "#0d0887"
            ],
            [
             0.1111111111111111,
             "#46039f"
            ],
            [
             0.2222222222222222,
             "#7201a8"
            ],
            [
             0.3333333333333333,
             "#9c179e"
            ],
            [
             0.4444444444444444,
             "#bd3786"
            ],
            [
             0.5555555555555556,
             "#d8576b"
            ],
            [
             0.6666666666666666,
             "#ed7953"
            ],
            [
             0.7777777777777778,
             "#fb9f3a"
            ],
            [
             0.8888888888888888,
             "#fdca26"
            ],
            [
             1,
             "#f0f921"
            ]
           ],
           "sequentialminus": [
            [
             0,
             "#0d0887"
            ],
            [
             0.1111111111111111,
             "#46039f"
            ],
            [
             0.2222222222222222,
             "#7201a8"
            ],
            [
             0.3333333333333333,
             "#9c179e"
            ],
            [
             0.4444444444444444,
             "#bd3786"
            ],
            [
             0.5555555555555556,
             "#d8576b"
            ],
            [
             0.6666666666666666,
             "#ed7953"
            ],
            [
             0.7777777777777778,
             "#fb9f3a"
            ],
            [
             0.8888888888888888,
             "#fdca26"
            ],
            [
             1,
             "#f0f921"
            ]
           ]
          },
          "colorway": [
           "#636efa",
           "#EF553B",
           "#00cc96",
           "#ab63fa",
           "#FFA15A",
           "#19d3f3",
           "#FF6692",
           "#B6E880",
           "#FF97FF",
           "#FECB52"
          ],
          "font": {
           "color": "#2a3f5f"
          },
          "geo": {
           "bgcolor": "white",
           "lakecolor": "white",
           "landcolor": "#E5ECF6",
           "showlakes": true,
           "showland": true,
           "subunitcolor": "white"
          },
          "hoverlabel": {
           "align": "left"
          },
          "hovermode": "closest",
          "mapbox": {
           "style": "light"
          },
          "paper_bgcolor": "white",
          "plot_bgcolor": "#E5ECF6",
          "polar": {
           "angularaxis": {
            "gridcolor": "white",
            "linecolor": "white",
            "ticks": ""
           },
           "bgcolor": "#E5ECF6",
           "radialaxis": {
            "gridcolor": "white",
            "linecolor": "white",
            "ticks": ""
           }
          },
          "scene": {
           "xaxis": {
            "backgroundcolor": "#E5ECF6",
            "gridcolor": "white",
            "gridwidth": 2,
            "linecolor": "white",
            "showbackground": true,
            "ticks": "",
            "zerolinecolor": "white"
           },
           "yaxis": {
            "backgroundcolor": "#E5ECF6",
            "gridcolor": "white",
            "gridwidth": 2,
            "linecolor": "white",
            "showbackground": true,
            "ticks": "",
            "zerolinecolor": "white"
           },
           "zaxis": {
            "backgroundcolor": "#E5ECF6",
            "gridcolor": "white",
            "gridwidth": 2,
            "linecolor": "white",
            "showbackground": true,
            "ticks": "",
            "zerolinecolor": "white"
           }
          },
          "shapedefaults": {
           "line": {
            "color": "#2a3f5f"
           }
          },
          "ternary": {
           "aaxis": {
            "gridcolor": "white",
            "linecolor": "white",
            "ticks": ""
           },
           "baxis": {
            "gridcolor": "white",
            "linecolor": "white",
            "ticks": ""
           },
           "bgcolor": "#E5ECF6",
           "caxis": {
            "gridcolor": "white",
            "linecolor": "white",
            "ticks": ""
           }
          },
          "title": {
           "x": 0.05
          },
          "xaxis": {
           "automargin": true,
           "gridcolor": "white",
           "linecolor": "white",
           "ticks": "",
           "title": {
            "standoff": 15
           },
           "zerolinecolor": "white",
           "zerolinewidth": 2
          },
          "yaxis": {
           "automargin": true,
           "gridcolor": "white",
           "linecolor": "white",
           "ticks": "",
           "title": {
            "standoff": 15
           },
           "zerolinecolor": "white",
           "zerolinewidth": 2
          }
         }
        },
        "title": {
         "text": "Incidence of colorectal cancer per country (per 100 000 people) vs Human Development Index, in 2020, both sexes, all ages"
        },
        "xaxis": {
         "anchor": "y",
         "domain": [
          0,
          1
         ],
         "title": {
          "text": "Human Development Index"
         }
        },
        "yaxis": {
         "anchor": "x",
         "domain": [
          0,
          1
         ],
         "title": {
          "text": "Incidence"
         }
        }
       }
      }
     },
     "metadata": {},
     "output_type": "display_data"
    }
   ],
   "source": [
    "#plots\n",
    "incidence_world_map=world_map(data_path_incidence,incidence,loc_name, \n",
    "                              \"Estimated colorectal cancer incidence rates in 2020, per country, both sexes, ages 0-74\",\n",
    "                              color='blugrn')\n",
    "mortality_world_map=world_map(data_path_mortality,mortality,loc_name, \n",
    "                              \"Estimated colorectal cancer morality rates in 2020, per country, both sexes, ages 0-74\",\n",
    "                              color='reds')\n",
    "incidence_function_of_HDI_scatter=incidence_vs_HDI_plot(data_path_incidence_HDI, \n",
    "                                                        \"Incidence of colorectal cancer per country (per 100 000 people) vs Human Development Index, in 2020, both sexes, all ages\")"
   ]
  },
  {
   "attachments": {},
   "cell_type": "markdown",
   "metadata": {},
   "source": [
    "As you can observe it on the interactive maps, colorectal cancer incidence is high inside **high Human Development Index countries**. \n",
    "Its seems to be a correlation between the Human Development Index and and the colorectal cancer incidence as you can see it in the figure above. (By clicking on the points, you can see the incidence, the country name and its HDI). The Human Development Index (HDI) is a summary measure of average achievement in key dimensions of human development: a long and healthy life, being knowledgeable and have a decent standard of living. The HDI is the geometric mean of normalized indices for each of the three dimensions, thus it is a more relevant measurement than GDP per capita for our analyses (Source : United Nations development programme, Human Developement Reports, 2020)\n",
    "All the data are extracted from the *International Agency for Research on Cancer, WHO*, from the **GLOBOCAN 2020** study, that estimates of incidence, mortality and prevalence of main cancers for year 2020 in 185 countries or territories for 36 cancer types by sex and age group.\n",
    "\n",
    "Cancer is mostly affecting people from high HDI countries because they have a **higher life expectancy** (avoiding starvation and infectious diseases, Source : Yuval Noah Harrari, *Homo Deus: A Brief History of Tomorrow*, 2016), but also due to lack of regular physical activity, a low-fiber and high-fat diet, or a diet high in processed meats, overweight and obesity, alcohol consumption and tobacco use. (Source, American Society of Cancer)\n"
   ]
  },
  {
   "attachments": {},
   "cell_type": "markdown",
   "metadata": {},
   "source": [
    "## Part II: Hyperplastic polyps and sessile serrated adenomas' separation "
   ]
  },
  {
   "attachments": {},
   "cell_type": "markdown",
   "metadata": {},
   "source": [
    "As mentionned inside the introduction, hyperplastic polyps (HP) and sessile serated adenomas (SSA) are sometimes hard to separate by pathologists. \n",
    "Thus, I tried to train a supervised learning model to classify HP and SSL images, using **MHIST dataset**. This dataset comprises **3152 hematoxylin and eosin (H&E)-stained Formalin Fixed Paraffin-Embedded (FFPE) fixed-size images (224 by 224 pixels)** of colorectal polyps from the Department of Pathology and Laboratory Medicine at Dartmouth-Hitchcock Medical Center (DHMC). The dataset is de-identified and released with permission from Dartmouth-Hitchcock Health (D-HH) Institutional Review Board (IRB). All images are labeled according to the opinions of seven pathologists, Drs. Arief Suriawinata, Bing Ren, Xiaoying Liu, Mikhail Lisovsky, Louis Vaickus, Charles Brown, and Michael Baker, at the Department of Pathology and Laboratory Medicine at DHMC for the type of colorectal polyps. This dataset and its associated annotations aim to foster collaboration with the research community and facilitate developing and evaluating new methodologies for accurate histology image analysis in digital pathology.\n",
    "\n",
    "Classes in the dataset indicate the predominant histological pattern of each image and are as follows: Hyperplastic Polyp (HP) and Sessile Serrated Adenoma (SSA).\n",
    "\n",
    "This classification task focuses on the clinically-important binary distinction between HPs and SSAs, a challenging problem with considerable inter-pathologist variability. HPs are typically benign, while sessile serrated adenomas are precancerous lesions that can turn into cancer if left untreated and require sooner follow-up examinations. Histologically, HPs have a superficial serrated architecture and elongated crypts, whereas SSAs are characterized by broad-based crypts, often with complex structure and heavy serration.\n",
    "\n",
    "\n",
    "Data formats : annotations inside a dataframe(annotations.csv)  images (images.zip, 333 MB)\n",
    "\n",
    "\n",
    "Source : \"Jerry Wei, Arief Suriawinata, Bing Ren, Xiaoying Liu, Mikhail Lisovsky, Louis Vaickus, Charles Brown, Michael Baker, Naofumi Tomita, Lorenzo Torresani, Jason Wei, Saeed Hassanpour, “A Petri Dish for Histopathology Image Analysis”, International Conference on Artificial Intelligence in Medicine (AIME), 12721:11-24, 2021.\""
   ]
  },
  {
   "attachments": {},
   "cell_type": "markdown",
   "metadata": {},
   "source": [
    "### 1. Supervised model training"
   ]
  },
  {
   "attachments": {},
   "cell_type": "markdown",
   "metadata": {},
   "source": [
    "Our supervised model needs first image processing, thus, we croped the images (using the *center_crop* function written bellow) to have a standardized image format. \n",
    "\n",
    "Then, we used a logistic regression model (**logistic_regression_model** function): \n",
    "\n",
    "- Variable are written : $z = w^T x + b$ ($z$ is the output variable, modified as a boolean : 1 if HP, 0 if SSA; x is the input, here the image,w and b are the parameters optimized during the gradient descent at each iteration) \n",
    "- Then, we predict the image annotation $y_{predict} = \\frac{1}{1 + e^{-z}}$ (sigmoid function), if $ <0.5> it is 0 , else it is 1. \n",
    "This is automaticaly made by the *LogisticRegression* package provided by sklearn. We chose to iterate 100 times for the solver to converge.\n",
    "\n",
    "\n",
    "To validate the model, we used cross validations (**cross_validation** function): the data are divided into k-folds (here we chose 5), and then the model is trained on different subsets of the data and is evaluated on the remaining data (called the validation set). This process is repeated, with different subsets of the data being used for training and evaluation each time. The final performance metric is then calculated as the average of the performance on each fold. This method helps to reduce the risk of overfitting by providing a more robust estimate of model performance.\n",
    "\n",
    "The accuracy and F1 scores of each model (trained on one fold each) are plotted below."
   ]
  },
  {
   "cell_type": "code",
   "execution_count": 18,
   "metadata": {},
   "outputs": [],
   "source": [
    "#packages\n",
    "import pandas as pd\n",
    "import os \n",
    "import numpy as np \n",
    "from PIL import Image\n",
    "from sklearn.linear_model import LogisticRegression\n",
    "from sklearn.model_selection import cross_validate"
   ]
  },
  {
   "cell_type": "code",
   "execution_count": 19,
   "metadata": {},
   "outputs": [],
   "source": [
    "#Image processing is needed at many stages\n",
    "#here are the functions to crop the image as a square of wanted size (center_crop), \n",
    "\n",
    "def center_crop(image_path, size):\n",
    "  \"\"\"\n",
    "  crop the image from center of the given size\n",
    "  input:\n",
    "    image_path (string): Path of image\n",
    "    size (int): size to which the image being cropped from center\n",
    "  \"\"\"\n",
    "  img=Image.open(image_path)\n",
    "  img=img.resize((size+1,size+1))\n",
    "  x_center=img.width/2\n",
    "  y_center=img.height/2\n",
    "  size=size/2\n",
    "  cr=img.crop((x_center-size, y_center-size, x_center+size, y_center+size))\n",
    "\n",
    "  return cr"
   ]
  },
  {
   "cell_type": "code",
   "execution_count": 20,
   "metadata": {},
   "outputs": [],
   "source": [
    "#Supervised learning function \n",
    "def train_data_and_their_annotation_upload(df_path,train_path,image_name_col,majority_vote_label_col,train_label_1):\n",
    "     \"\"\" \n",
    "     Import the data trainset (group of img), and their annotations included inside a dataframe\n",
    "     input: \n",
    "          df_path (string): path to the annotation dataframe\n",
    "          image_name_col (string): name of the column containing the image name inside the annotation dataframe\n",
    "          majority_vote_label_col (string): name of the column containing the label of the image chosen by a majority of \n",
    "          specialists (out of 7) inside the annotation dataframe     \n",
    "          trains_path (string): path to the trainset images folder\n",
    "     output: \n",
    "          df (dataframe)\n",
    "          train_list (list): name of all the images names\n",
    "          train_data (array of float): all the images as a matrix(uniformised size + scaled rgb values)\n",
    "          train_label (array of int): 1 or 0, corresponding to the label train_label_1 (1) or not (0)\n",
    "\n",
    "     \"\"\"\n",
    "     df=pd.read_csv(df_path) #annotations are inside a dataframe\n",
    "     train_list=os.listdir(train_path) #upload the train set \n",
    "     np.random.shuffle(train_list)\n",
    "\n",
    "     train_data=np.zeros((df.shape[0],100*100*3)) #initiate the train data matrix :\n",
    "     #number of lines=number of images of the trainset\n",
    "     #column number=size of the image*3 (for rgb)\n",
    "     \n",
    "     for i, image_name in enumerate(df[image_name_col]):\n",
    "          image_path=f'{train_path}/{image_name}'\n",
    "          crp_img=center_crop(image_path,100) #center_crop function defined in the image pre-processing chunk\n",
    "          crp_arr=np.array(crp_img).reshape(-1)\n",
    "          train_data[i]=crp_arr\n",
    "\n",
    "     train_data=train_data/255 #scale rgb values \n",
    "\n",
    "     train_labels=np.array([1 if name==train_label_1 else 0 for name in df[majority_vote_label_col]]) \n",
    "     #labeling images\n",
    "\n",
    "     return df,train_list,train_data,train_labels\n",
    "\n",
    "\n",
    "def logistic_regression_model(train_data, train_labels, max_iter):\n",
    "     \"\"\" \n",
    "     fit a logistic regression model\n",
    "     input: \n",
    "          train_data and train_labels are obtained by train_data_and_their_annotation_upload function\n",
    "          max_iter (int)= Maximum number of iterations taken for the solvers to converge.\n",
    "     \"\"\"\n",
    "     model=LogisticRegression(max_iter=max_iter, n_jobs=-1, verbose=1) \n",
    "     fitted_model=model.fit(train_data, train_labels)\n",
    "     \n",
    "     return(fitted_model)\n",
    "\n",
    "\n",
    "\n",
    "def cross_validation(model,_X,_y,_cv):\n",
    "      '''Function to perform _cv Folds Cross-Validation\n",
    "       Parameters\n",
    "       ----------\n",
    "      model: Python Class, default=None\n",
    "              This is the machine learning algorithm to be used for training.\n",
    "      _X: array\n",
    "           This is the matrix of features.\n",
    "      _y: array\n",
    "           This is the target variable.\n",
    "      _cv: int, default=5\n",
    "          Determines the number of folds for cross-validation.\n",
    "       Returns\n",
    "       -------\n",
    "       The function returns a dictionary containing the metrics 'accuracy', \n",
    "       'f1' for both training set and validation set.\n",
    "      '''\n",
    "      _scoring=['accuracy','precision','recall','f1']\n",
    "      results=cross_validate(estimator=model,\n",
    "                               X=_X,\n",
    "                               y=_y,\n",
    "                               cv=_cv,\n",
    "                               scoring=_scoring,\n",
    "                               return_train_score=True)\n",
    "      \n",
    "      return {\"Training Accuracy scores\": results['train_accuracy'],\n",
    "              \"Mean Training Accuracy\": results['train_accuracy'].mean()*100,\n",
    "              \"Training F1 scores\": results['train_f1'],\n",
    "              \"Mean Training F1 Score\": results['train_f1'].mean(),\n",
    "              \"Validation Accuracy scores\": results['test_accuracy'],\n",
    "              \"Mean Validation Accuracy\": results['test_accuracy'].mean()*100,\n",
    "              \"Mean Validation Recall\": results['test_recall'].mean(),\n",
    "              \"Validation F1 scores\": results['test_f1'],\n",
    "              \"Mean Validation F1 Score\": results['test_f1'].mean()\n",
    "              }"
   ]
  },
  {
   "cell_type": "code",
   "execution_count": 21,
   "metadata": {},
   "outputs": [],
   "source": [
    "#Inputs: \n",
    "df_path= os.path.join(general_path, 'annotations_try_4.csv')\n",
    "train_path= os.path.join(general_path, 'images_try_4')\n",
    "image_name_col='Image Name'\n",
    "majority_vote_label_col='Majority Vote Label'\n",
    "train_label_1='HP' #Could have been SSA too"
   ]
  },
  {
   "cell_type": "code",
   "execution_count": 23,
   "metadata": {},
   "outputs": [
    {
     "name": "stderr",
     "output_type": "stream",
     "text": [
      "[Parallel(n_jobs=-1)]: Using backend LokyBackend with 8 concurrent workers.\n"
     ]
    },
    {
     "name": "stdout",
     "output_type": "stream",
     "text": [
      "RUNNING THE L-BFGS-B CODE\n",
      "\n",
      "           * * *\n",
      "\n",
      "Machine precision = 2.220D-16\n",
      " N =        30001     M =           10\n",
      "\n",
      "At X0         0 variables are exactly at the bounds\n",
      "\n",
      "At iterate    0    f=  2.18480D+03    |proj g|=  5.86000D+02\n"
     ]
    },
    {
     "name": "stderr",
     "output_type": "stream",
     "text": [
      " This problem is unconstrained.\n"
     ]
    },
    {
     "name": "stdout",
     "output_type": "stream",
     "text": [
      "\n",
      "At iterate   50    f=  1.35563D+03    |proj g|=  3.27370D+01\n",
      "\n",
      "At iterate  100    f=  7.75702D+02    |proj g|=  2.39020D+01\n",
      "\n",
      "           * * *\n",
      "\n",
      "Tit   = total number of iterations\n",
      "Tnf   = total number of function evaluations\n",
      "Tnint = total number of segments explored during Cauchy searches\n",
      "Skip  = number of BFGS updates skipped\n",
      "Nact  = number of active bounds at final generalized Cauchy point\n",
      "Projg = norm of the final projected gradient\n",
      "F     = final function value\n",
      "\n",
      "           * * *\n",
      "\n",
      "   N    Tit     Tnf  Tnint  Skip  Nact     Projg        F\n",
      "30001    100    115      1     0     0   2.390D+01   7.757D+02\n",
      "  F =   775.70186213315776     \n",
      "\n",
      "STOP: TOTAL NO. of ITERATIONS REACHED LIMIT                 \n"
     ]
    },
    {
     "name": "stderr",
     "output_type": "stream",
     "text": [
      "/Users/salomeouaknine/opt/anaconda3/lib/python3.9/site-packages/sklearn/linear_model/_logistic.py:763: ConvergenceWarning: lbfgs failed to converge (status=1):\n",
      "STOP: TOTAL NO. of ITERATIONS REACHED LIMIT.\n",
      "\n",
      "Increase the number of iterations (max_iter) or scale the data as shown in:\n",
      "    https://scikit-learn.org/stable/modules/preprocessing.html\n",
      "Please also refer to the documentation for alternative solver options:\n",
      "    https://scikit-learn.org/stable/modules/linear_model.html#logistic-regression\n",
      "  n_iter_i = _check_optimize_result(\n",
      "[Parallel(n_jobs=-1)]: Done   1 out of   1 | elapsed:  1.7min finished\n",
      "[Parallel(n_jobs=-1)]: Using backend LokyBackend with 8 concurrent workers.\n"
     ]
    },
    {
     "name": "stdout",
     "output_type": "stream",
     "text": [
      "RUNNING THE L-BFGS-B CODE\n",
      "\n",
      "           * * *\n",
      "\n",
      "Machine precision = 2.220D-16\n",
      " N =        30001     M =           10\n",
      "\n",
      "At X0         0 variables are exactly at the bounds\n",
      "\n",
      "At iterate    0    f=  1.74742D+03    |proj g|=  4.68500D+02\n"
     ]
    },
    {
     "name": "stderr",
     "output_type": "stream",
     "text": [
      " This problem is unconstrained.\n"
     ]
    },
    {
     "name": "stdout",
     "output_type": "stream",
     "text": [
      "\n",
      "At iterate   50    f=  1.05319D+03    |proj g|=  2.76799D+01\n",
      "\n",
      "At iterate  100    f=  3.54649D+02    |proj g|=  1.00373D+01\n",
      "\n",
      "           * * *\n",
      "\n",
      "Tit   = total number of iterations\n",
      "Tnf   = total number of function evaluations\n",
      "Tnint = total number of segments explored during Cauchy searches\n",
      "Skip  = number of BFGS updates skipped\n",
      "Nact  = number of active bounds at final generalized Cauchy point\n",
      "Projg = norm of the final projected gradient\n",
      "F     = final function value\n",
      "\n",
      "           * * *\n",
      "\n",
      "   N    Tit     Tnf  Tnint  Skip  Nact     Projg        F\n",
      "30001    100    114      1     0     0   1.004D+01   3.546D+02\n",
      "  F =   354.64895680636630     \n",
      "\n",
      "STOP: TOTAL NO. of ITERATIONS REACHED LIMIT                 \n"
     ]
    },
    {
     "name": "stderr",
     "output_type": "stream",
     "text": [
      "/Users/salomeouaknine/opt/anaconda3/lib/python3.9/site-packages/sklearn/linear_model/_logistic.py:763: ConvergenceWarning: lbfgs failed to converge (status=1):\n",
      "STOP: TOTAL NO. of ITERATIONS REACHED LIMIT.\n",
      "\n",
      "Increase the number of iterations (max_iter) or scale the data as shown in:\n",
      "    https://scikit-learn.org/stable/modules/preprocessing.html\n",
      "Please also refer to the documentation for alternative solver options:\n",
      "    https://scikit-learn.org/stable/modules/linear_model.html#logistic-regression\n",
      "  n_iter_i = _check_optimize_result(\n",
      "[Parallel(n_jobs=-1)]: Done   1 out of   1 | elapsed:   55.8s finished\n",
      "[Parallel(n_jobs=-1)]: Using backend LokyBackend with 8 concurrent workers.\n"
     ]
    },
    {
     "name": "stdout",
     "output_type": "stream",
     "text": [
      "RUNNING THE L-BFGS-B CODE\n",
      "\n",
      "           * * *\n",
      "\n",
      "Machine precision = 2.220D-16\n",
      " N =        30001     M =           10\n",
      "\n",
      "At X0         0 variables are exactly at the bounds\n",
      "\n",
      "At iterate    0    f=  1.74742D+03    |proj g|=  4.68500D+02\n"
     ]
    },
    {
     "name": "stderr",
     "output_type": "stream",
     "text": [
      " This problem is unconstrained.\n"
     ]
    },
    {
     "name": "stdout",
     "output_type": "stream",
     "text": [
      "\n",
      "At iterate   50    f=  8.99865D+02    |proj g|=  2.23391D+01\n",
      "\n",
      "At iterate  100    f=  2.58118D+02    |proj g|=  7.10525D+00\n",
      "\n",
      "           * * *\n",
      "\n",
      "Tit   = total number of iterations\n",
      "Tnf   = total number of function evaluations\n",
      "Tnint = total number of segments explored during Cauchy searches\n",
      "Skip  = number of BFGS updates skipped\n",
      "Nact  = number of active bounds at final generalized Cauchy point\n",
      "Projg = norm of the final projected gradient\n",
      "F     = final function value\n",
      "\n",
      "           * * *\n",
      "\n",
      "   N    Tit     Tnf  Tnint  Skip  Nact     Projg        F\n",
      "30001    100    118      1     0     0   7.105D+00   2.581D+02\n",
      "  F =   258.11833335603717     \n",
      "\n",
      "STOP: TOTAL NO. of ITERATIONS REACHED LIMIT                 \n"
     ]
    },
    {
     "name": "stderr",
     "output_type": "stream",
     "text": [
      "/Users/salomeouaknine/opt/anaconda3/lib/python3.9/site-packages/sklearn/linear_model/_logistic.py:763: ConvergenceWarning: lbfgs failed to converge (status=1):\n",
      "STOP: TOTAL NO. of ITERATIONS REACHED LIMIT.\n",
      "\n",
      "Increase the number of iterations (max_iter) or scale the data as shown in:\n",
      "    https://scikit-learn.org/stable/modules/preprocessing.html\n",
      "Please also refer to the documentation for alternative solver options:\n",
      "    https://scikit-learn.org/stable/modules/linear_model.html#logistic-regression\n",
      "  n_iter_i = _check_optimize_result(\n",
      "[Parallel(n_jobs=-1)]: Done   1 out of   1 | elapsed:   54.5s finished\n",
      "[Parallel(n_jobs=-1)]: Using backend LokyBackend with 8 concurrent workers.\n"
     ]
    },
    {
     "name": "stdout",
     "output_type": "stream",
     "text": [
      "RUNNING THE L-BFGS-B CODE\n",
      "\n",
      "           * * *\n",
      "\n",
      "Machine precision = 2.220D-16\n",
      " N =        30001     M =           10\n",
      "\n",
      "At X0         0 variables are exactly at the bounds\n",
      "\n",
      "At iterate    0    f=  1.74812D+03    |proj g|=  4.69000D+02\n"
     ]
    },
    {
     "name": "stderr",
     "output_type": "stream",
     "text": [
      " This problem is unconstrained.\n"
     ]
    },
    {
     "name": "stdout",
     "output_type": "stream",
     "text": [
      "\n",
      "At iterate   50    f=  1.03936D+03    |proj g|=  1.94565D+01\n",
      "\n",
      "At iterate  100    f=  4.03027D+02    |proj g|=  2.24829D+01\n",
      "\n",
      "           * * *\n",
      "\n",
      "Tit   = total number of iterations\n",
      "Tnf   = total number of function evaluations\n",
      "Tnint = total number of segments explored during Cauchy searches\n",
      "Skip  = number of BFGS updates skipped\n",
      "Nact  = number of active bounds at final generalized Cauchy point\n",
      "Projg = norm of the final projected gradient\n",
      "F     = final function value\n",
      "\n",
      "           * * *\n",
      "\n",
      "   N    Tit     Tnf  Tnint  Skip  Nact     Projg        F\n",
      "30001    100    120      1     0     0   2.248D+01   4.030D+02\n",
      "  F =   403.02734953425164     \n",
      "\n",
      "STOP: TOTAL NO. of ITERATIONS REACHED LIMIT                 \n"
     ]
    },
    {
     "name": "stderr",
     "output_type": "stream",
     "text": [
      "/Users/salomeouaknine/opt/anaconda3/lib/python3.9/site-packages/sklearn/linear_model/_logistic.py:763: ConvergenceWarning: lbfgs failed to converge (status=1):\n",
      "STOP: TOTAL NO. of ITERATIONS REACHED LIMIT.\n",
      "\n",
      "Increase the number of iterations (max_iter) or scale the data as shown in:\n",
      "    https://scikit-learn.org/stable/modules/preprocessing.html\n",
      "Please also refer to the documentation for alternative solver options:\n",
      "    https://scikit-learn.org/stable/modules/linear_model.html#logistic-regression\n",
      "  n_iter_i = _check_optimize_result(\n",
      "[Parallel(n_jobs=-1)]: Done   1 out of   1 | elapsed:   56.0s finished\n",
      "[Parallel(n_jobs=-1)]: Using backend LokyBackend with 8 concurrent workers.\n",
      " This problem is unconstrained.\n"
     ]
    },
    {
     "name": "stdout",
     "output_type": "stream",
     "text": [
      "RUNNING THE L-BFGS-B CODE\n",
      "\n",
      "           * * *\n",
      "\n",
      "Machine precision = 2.220D-16\n",
      " N =        30001     M =           10\n",
      "\n",
      "At X0         0 variables are exactly at the bounds\n",
      "\n",
      "At iterate    0    f=  1.74812D+03    |proj g|=  4.69000D+02\n",
      "\n",
      "At iterate   50    f=  9.77703D+02    |proj g|=  2.09827D+01\n",
      "\n",
      "At iterate  100    f=  3.27320D+02    |proj g|=  8.77174D+00\n",
      "\n",
      "           * * *\n",
      "\n",
      "Tit   = total number of iterations\n",
      "Tnf   = total number of function evaluations\n",
      "Tnint = total number of segments explored during Cauchy searches\n",
      "Skip  = number of BFGS updates skipped\n",
      "Nact  = number of active bounds at final generalized Cauchy point\n",
      "Projg = norm of the final projected gradient\n",
      "F     = final function value\n",
      "\n",
      "           * * *\n",
      "\n",
      "   N    Tit     Tnf  Tnint  Skip  Nact     Projg        F\n",
      "30001    100    119      1     0     0   8.772D+00   3.273D+02\n",
      "  F =   327.32013371570440     \n",
      "\n",
      "STOP: TOTAL NO. of ITERATIONS REACHED LIMIT                 \n"
     ]
    },
    {
     "name": "stderr",
     "output_type": "stream",
     "text": [
      "/Users/salomeouaknine/opt/anaconda3/lib/python3.9/site-packages/sklearn/linear_model/_logistic.py:763: ConvergenceWarning: lbfgs failed to converge (status=1):\n",
      "STOP: TOTAL NO. of ITERATIONS REACHED LIMIT.\n",
      "\n",
      "Increase the number of iterations (max_iter) or scale the data as shown in:\n",
      "    https://scikit-learn.org/stable/modules/preprocessing.html\n",
      "Please also refer to the documentation for alternative solver options:\n",
      "    https://scikit-learn.org/stable/modules/linear_model.html#logistic-regression\n",
      "  n_iter_i = _check_optimize_result(\n",
      "[Parallel(n_jobs=-1)]: Done   1 out of   1 | elapsed:   51.1s finished\n",
      "[Parallel(n_jobs=-1)]: Using backend LokyBackend with 8 concurrent workers.\n"
     ]
    },
    {
     "name": "stdout",
     "output_type": "stream",
     "text": [
      "RUNNING THE L-BFGS-B CODE\n",
      "\n",
      "           * * *\n",
      "\n",
      "Machine precision = 2.220D-16\n",
      " N =        30001     M =           10\n",
      "\n",
      "At X0         0 variables are exactly at the bounds\n",
      "\n",
      "At iterate    0    f=  1.74812D+03    |proj g|=  4.69000D+02\n"
     ]
    },
    {
     "name": "stderr",
     "output_type": "stream",
     "text": [
      " This problem is unconstrained.\n"
     ]
    },
    {
     "name": "stdout",
     "output_type": "stream",
     "text": [
      "\n",
      "At iterate   50    f=  1.01776D+03    |proj g|=  3.45784D+01\n",
      "\n",
      "At iterate  100    f=  2.89372D+02    |proj g|=  6.50289D+00\n",
      "\n",
      "           * * *\n",
      "\n",
      "Tit   = total number of iterations\n",
      "Tnf   = total number of function evaluations\n",
      "Tnint = total number of segments explored during Cauchy searches\n",
      "Skip  = number of BFGS updates skipped\n",
      "Nact  = number of active bounds at final generalized Cauchy point\n",
      "Projg = norm of the final projected gradient\n",
      "F     = final function value\n",
      "\n",
      "           * * *\n",
      "\n",
      "   N    Tit     Tnf  Tnint  Skip  Nact     Projg        F\n",
      "30001    100    117      1     0     0   6.503D+00   2.894D+02\n",
      "  F =   289.37170826252913     \n",
      "\n",
      "STOP: TOTAL NO. of ITERATIONS REACHED LIMIT                 \n"
     ]
    },
    {
     "name": "stderr",
     "output_type": "stream",
     "text": [
      "/Users/salomeouaknine/opt/anaconda3/lib/python3.9/site-packages/sklearn/linear_model/_logistic.py:763: ConvergenceWarning: lbfgs failed to converge (status=1):\n",
      "STOP: TOTAL NO. of ITERATIONS REACHED LIMIT.\n",
      "\n",
      "Increase the number of iterations (max_iter) or scale the data as shown in:\n",
      "    https://scikit-learn.org/stable/modules/preprocessing.html\n",
      "Please also refer to the documentation for alternative solver options:\n",
      "    https://scikit-learn.org/stable/modules/linear_model.html#logistic-regression\n",
      "  n_iter_i = _check_optimize_result(\n",
      "[Parallel(n_jobs=-1)]: Done   1 out of   1 | elapsed:   53.3s finished\n"
     ]
    }
   ],
   "source": [
    "#Results: \n",
    "df,train_list,train_data,train_labels=train_data_and_their_annotation_upload(\n",
    "    df_path,train_path,image_name_col,majority_vote_label_col,train_label_1)\n",
    "\n",
    "fitted_model=logistic_regression_model(train_data,train_labels,max_iter=100)\n",
    "\n",
    "cross_validation_results=cross_validation(fitted_model,train_data,train_labels,_cv=5)"
   ]
  },
  {
   "attachments": {},
   "cell_type": "markdown",
   "metadata": {},
   "source": [
    "### 2 Data visualisation"
   ]
  },
  {
   "cell_type": "code",
   "execution_count": 24,
   "metadata": {},
   "outputs": [],
   "source": [
    "#packages\n",
    "import matplotlib.pyplot as plt\n",
    "import pandas as pd"
   ]
  },
  {
   "cell_type": "code",
   "execution_count": 25,
   "metadata": {},
   "outputs": [],
   "source": [
    "#function\n",
    "def supervised_learning_parameters_results(x_label,y_label,plot_title,train_data,val_data):\n",
    "        '''Function to plot a grouped bar chart showing the training and validation\n",
    "          results of the ML model in each fold after applying K-fold cross-validation.\n",
    "         Parameters\n",
    "         ----------\n",
    "         x_label: str, \n",
    "            Name of the algorithm used for training e.g 'Decision Tree'\n",
    "          \n",
    "         y_label: str, \n",
    "            Name of metric being visualized e.g 'Accuracy'\n",
    "         plot_title: str, \n",
    "            This is the title of the plot e.g 'Accuracy Plot'\n",
    "         \n",
    "         train_result: list, array\n",
    "            This is the list containing either training precision, accuracy, or f1 score.\n",
    "        \n",
    "         val_result: list, array\n",
    "            This is the list containing either validation precision, accuracy, or f1 score.\n",
    "         Returns\n",
    "         -------\n",
    "         The function returns a Grouped Barchart showing the training and validation result\n",
    "         in each fold.\n",
    "        '''\n",
    "        \n",
    "        # Set size of plot\n",
    "        plt.figure(figsize=(12,6))\n",
    "        labels=[\"1st Fold\",\"2nd Fold\",\"3rd Fold\",\"4th Fold\",\"5th Fold\"]\n",
    "        X_axis=np.arange(len(labels))\n",
    "        ax=plt.gca()\n",
    "        plt.ylim(0.40000,1)\n",
    "        plt.bar(X_axis-0.2,train_data,0.4,color='blue',label='Training')\n",
    "        plt.bar(X_axis+0.2,val_data,0.4,color='red',label='Validation')\n",
    "        plt.title(plot_title,fontsize=30)\n",
    "        plt.xticks(X_axis,labels)\n",
    "        plt.xlabel(x_label,fontsize=14)\n",
    "        plt.ylabel(y_label,fontsize=14)\n",
    "        plt.legend()\n",
    "        plt.grid(True)\n",
    "        plt.show()"
   ]
  },
  {
   "cell_type": "code",
   "execution_count": 26,
   "metadata": {},
   "outputs": [
    {
     "data": {
      "image/png": "[encoded data removed]",
      "text/plain": [
       "<Figure size 864x432 with 1 Axes>"
      ]
     },
     "metadata": {
      "needs_background": "light"
     },
     "output_type": "display_data"
    },
    {
     "data": {
      "image/png": "[encoded data removed]",
      "text/plain": [
       "<Figure size 864x432 with 1 Axes>"
      ]
     },
     "metadata": {
      "needs_background": "light"
     },
     "output_type": "display_data"
    }
   ],
   "source": [
    "#plots\n",
    "accuracy=supervised_learning_parameters_results(\"Logistic regression model\",\n",
    "            \"Accuracy\",\n",
    "            \"Accuracy scores in 5 Folds\",\n",
    "            cross_validation_results[\"Training Accuracy scores\"],\n",
    "            cross_validation_results[\"Validation Accuracy scores\"])\n",
    "\n",
    "F_score=supervised_learning_parameters_results(\"Logistic regression model\",\n",
    "            \"F1\",\n",
    "            \"F1 scores in 5 Folds\",\n",
    "            cross_validation_results[\"Training F1 scores\"],\n",
    "            cross_validation_results[\"Validation F1 scores\"])"
   ]
  },
  {
   "attachments": {},
   "cell_type": "markdown",
   "metadata": {},
   "source": [
    "To remind : \n",
    "\n",
    "- accuracy : measures how many observations, here both HP and SSA, were correctly classified. $accuracy = \\frac{well \\ classified}{not \\ well \\ classified + well \\ classified}$\n",
    "- $F_1$ score : combines precision $F_1 = \\frac{well \\ classified \\ 1}{well \\ classified \\ 1 + 0 \\ classified \\ as \\ 1}$ and recall $\\frac{well \\ classified 1}{well \\ classified \\ 1 + 1 \\ classified \\ as \\ 0}$ by its harmonic mean \n",
    "\n",
    "Here, we observe that accuracy and $F_1$ score are much better (closer to 1) for the trainsets than the validation sets, which seems to be due to **overfitting** : the model is too close to the trainset data to generalise. To avoid that, we could increase our dataset model, but also verify even more the annotation, as said previously, the images have been classified by 7 pathologists and the annotation was the one were most agreed, but as we can see it into the next plot (using the **bar_chart_pathologist_agreement** function), many samples do not make consensus for the annotation. Due to these low values, I did not try to evaluate my model on a testset."
   ]
  },
  {
   "cell_type": "code",
   "execution_count": 20,
   "metadata": {},
   "outputs": [],
   "source": [
    "#Function to plot the repartition of the number of samples where n pathologists agreed on the label\n",
    "\n",
    "def bar_chart_pathologist_agreement(df_path,control_annotation,labels,xlab,ylab,title):\n",
    "    df=pd.read_csv(df_path)\n",
    "    df[\"Number of agreements\"]=df[control_annotation]\n",
    "    df.loc[df[\"Number of agreements\"]==0,\"Number of agreements\"]=7\n",
    "    df.loc[df[\"Number of agreements\"]==1,\"Number of agreements\"]=6\n",
    "    df.loc[df[\"Number of agreements\"]==2,\"Number of agreements\"]=5\n",
    "    df.loc[df[\"Number of agreements\"]==3,\"Number of agreements\"]=4\n",
    "    \n",
    "    agreement_repartition=df[\"Number of agreements\"].value_counts().sort_values().array\n",
    "\n",
    "    fig, ax = plt.subplots()\n",
    "    pps = ax.bar(labels,agreement_repartition,color ='maroon')\n",
    "    for p in pps:\n",
    "        height = p.get_height()\n",
    "        ax.text(x=p.get_x() + p.get_width() / 2, y=height+.10,\n",
    "                                          s=\"{}\".format(height),\n",
    "                                                        ha='center')\n",
    "    plt.xlabel(xlab)\n",
    "    plt.ylabel(ylab)\n",
    "    plt.title(title)\n",
    "    plt.show()"
   ]
  },
  {
   "cell_type": "code",
   "execution_count": 22,
   "metadata": {},
   "outputs": [
    {
     "data": {
      "image/png": "[encoded data removed]",
      "text/plain": [
       "<Figure size 640x480 with 1 Axes>"
      ]
     },
     "metadata": {},
     "output_type": "display_data"
    }
   ],
   "source": [
    "#plot the repartition of the number of samples where 7 pathologists agreed on the label of our samples\n",
    "bar_chart_pathologist_agreement(df_path,\n",
    "                                control_annotation=\"Number of Annotators who Selected SSA (Out of 7)\",\n",
    "                                labels=[\"4\",\"5\",\"6\",\"7\"],\n",
    "                                xlab=\"Number of pathologists\",\n",
    "                                ylab=\"Number of samples\",\n",
    "                                title=\"Repartition of the sample depending on the number of pathologists that agreed on their diagnosis out of 7\")"
   ]
  },
  {
   "attachments": {},
   "cell_type": "markdown",
   "metadata": {},
   "source": [
    "## Part III : Mitotic index "
   ]
  },
  {
   "attachments": {},
   "cell_type": "markdown",
   "metadata": {},
   "source": [
    "Mitotic index is defined as the ratio between the number of a population's cells undergoing mitosis to its total number of cells. It is a measure of cellular proliferation, which is a prognosis of a cancerous lesion (and a precancerous lesion). It is calculated as the ratio $\\frac{cells \\ in \\ mitosis}{total \\ number \\ of \\ cells}$. The idea of this last part is to try to calculate mitotic index automatically. For that, we used images where we assumed that nucleus are darker than cytoplasm and that mitotic cells have very condensed chromosoms (even darker). After counting the number of nucleus and the number of condensed zones, we calculated the mitotic index as : $\\frac{number \\ of \\ condensed \\ zones}{number \\ of \\ nucleus + number \\ of \\ condensed \\ zones}$. \n",
    "\n",
    "\n",
    "To analyze our data, we needed to use preprocessing : it is easyier to use black & white images (shades of gray), because it decreases one dimension (RGB to shades of gray). Then, we needed to filter the images to reduce the noise (we used a gaussian filter). Then, we thresholded the image to separate interphasic nucleus, mitotic chromosoms and the rest (cytoplasm, extracellular matrice, ...). \n",
    "\n",
    "\n",
    "Here, due to the low quality of the images used in part II, they were not usable (also, there were a lot of lymphocytes inside the extracellular matrice and their nucleus is very dark, and the images were not all focussing on epithelium only). Thus, we used images comming from the digital microscope developed by professor Michel Hérin at the University of Namur. We made two high resolution screenshots focusing on the epithelium, on an adenocarcinoma sample and a benign adenomatous polyp. \n"
   ]
  },
  {
   "cell_type": "code",
   "execution_count": 27,
   "metadata": {},
   "outputs": [],
   "source": [
    "#packages \n",
    "from skimage import (color, feature, filters, measure, morphology, segmentation, util)\n",
    "from skimage import data\n",
    "from skimage import io\n",
    "from skimage.color import rgb2gray\n",
    "from scipy.ndimage import gaussian_filter"
   ]
  },
  {
   "cell_type": "code",
   "execution_count": 28,
   "metadata": {},
   "outputs": [],
   "source": [
    "#Image preprocessing\n",
    "#Previous image processing function defined in a previous chunk in part I are used also in this part \n",
    "#Do not forget to run this previous chunk \n",
    "\n",
    "def open_in_gray(image_directory,image_name):\n",
    "   \"\"\"\n",
    "   An image preprocessing to convert image in rgb to gray scale is needed in this part\n",
    "   this function opens directly the image  in gray scale\n",
    "   \"\"\"\n",
    "   image_dir=image_directory\n",
    "   image_path=os.path.join(image_dir, image_name)\n",
    "   image=io.imread(image_path)[:,:,:3]\n",
    "   image=rgb2gray(image)\n",
    "\n",
    "   return(image)\n",
    "\n",
    "\n",
    "def gaussian_filtering(img,sigma): \n",
    "   \"\"\"\n",
    "   Gaussian Smoothing performs a weighted average of surrounding pixels based on the Gaussian distribution. \n",
    "   It is used to remove Gaussian noise\n",
    "   input: \n",
    "   \"\"\"\n",
    "   sigma=sigma\n",
    "   im_filtered=gaussian_filter(img,sigma)\n",
    "   \n",
    "   return im_filtered\n",
    "\n",
    "\n",
    "def threshold_multiotsu(img, nb_classes):\n",
    "    \"\"\"\n",
    "    multiotsu thresholding used to separate the pixels of an input image into several different classes,\n",
    "    each one obtained according to the intensity of the gray levels within the image.\n",
    "    input:\n",
    "        img (image object, in gray)\n",
    "        nb_classes (int): number of desired classes \n",
    "    output:\n",
    "        thresholds (float): the limits between two classes \n",
    "        regions (int): region position delimited by their class (depending on the thresholds)\n",
    "    \"\"\"\n",
    "    thresholds=filters.threshold_multiotsu(img,classes=nb_classes)\n",
    "    regions=np.digitize(img,bins=thresholds)\n",
    "\n",
    "    return thresholds,regions\n",
    "\n",
    "\n",
    "\n",
    "def threshold_manual(img,nb_classes,threshold_1=0.15,threshold_2=0.30):\n",
    "    \"\"\"\n",
    "    multiotsu thresholding used to separate the pixels of an input image into several different classes,\n",
    "    each one obtained according to the intensity of the gray levels within the image.\n",
    "    input:\n",
    "        img (image object, in gray)\n",
    "        nb_classes (int): number of desired classes \n",
    "    output:\n",
    "        thresholds (float): the limits between two classes \n",
    "        regions (int): region position delimited by their class (depending on the thresholds)\n",
    "    \"\"\"\n",
    "    thresholds = threshold_multiotsu(img,nb_classes)[0]\n",
    "    thresholds[0]=threshold_1\n",
    "    thresholds[1]=threshold_2\n",
    "    regions=np.digitize(img,bins=thresholds)\n",
    "\n",
    "    return thresholds, regions"
   ]
  },
  {
   "cell_type": "code",
   "execution_count": 29,
   "metadata": {},
   "outputs": [],
   "source": [
    "#function to count the mitotic index\n",
    "#count the number of cells aigain # make a function !!!\n",
    "\n",
    "def mitotic_index(thresholded_image,thresholds):\n",
    "    \"\"\" \n",
    "    mitotic index =  number of a population's cells undergoing mitosis / its total number of cells\n",
    "    An elevated mitotic index indicates more cells are dividing and is an important prognostic factor \n",
    "    predicting both overall survival and response to chemotherapy in most cancer types. \n",
    "    input:\n",
    "        thresholded_image (img)\n",
    "        thresholds (floats): \n",
    "            the darkest corresponds to mitotic chromosoms (under the first threshold),\n",
    "            the cells are counted as the number of nuclei, meaning the zone approximated as the second darkest color\n",
    "            and the darkest color (mitotic cells do not have a nucleic envelope anymore and have to be counted as \n",
    "            cells). Thus, correspond to zones < the second threshold \n",
    "    \"\"\"\n",
    "    cells=thresholded_image < thresholds[1]\n",
    "    labeled_cells=measure.label(cells)\n",
    "    number_of_cells=labeled_cells.max()\n",
    "    \n",
    "    dividing=thresholded_image < thresholds[0]\n",
    "    labeled_dividing=measure.label(dividing)\n",
    "    number_of_divisions=labeled_dividing.max()\n",
    "\n",
    "    mitotic_index=number_of_divisions/number_of_cells\n",
    "    return {\"mitotic index =\":mitotic_index,\n",
    "            \"number of cells =\":number_of_cells, \n",
    "            \"number of divisions =\":number_of_divisions}"
   ]
  },
  {
   "cell_type": "code",
   "execution_count": 33,
   "metadata": {},
   "outputs": [],
   "source": [
    "image_directory= os.path.join(general_path, 'data_part_3')\n",
    "image_name_pathology='image_mitosis_count.png'\n",
    "image_name_polip='image_polip.png'"
   ]
  },
  {
   "attachments": {},
   "cell_type": "markdown",
   "metadata": {},
   "source": [
    "### Output for the adenocarcinoma"
   ]
  },
  {
   "cell_type": "code",
   "execution_count": 35,
   "metadata": {},
   "outputs": [
    {
     "data": {
      "image/png": "[encoded data removed]",
      "text/plain": [
       "<Figure size 720x360 with 3 Axes>"
      ]
     },
     "metadata": {
      "needs_background": "light"
     },
     "output_type": "display_data"
    }
   ],
   "source": [
    "#output of pathologic image\n",
    "image=open_in_gray(image_directory,image_name_pathology)\n",
    "image_gaussian_filetered=gaussian_filtering(image,sigma=4)\n",
    "image_multiotsu_thresholded=threshold_multiotsu(image_gaussian_filetered,nb_classes=4)\n",
    "\n",
    "fig,ax=plt.subplots(ncols=3, figsize=(10, 5))\n",
    "ax[0].imshow(image, cmap=\"gray\")\n",
    "ax[0].set_title('Original')\n",
    "ax[0].axis('off')\n",
    "ax[1].imshow(image_gaussian_filetered, cmap=\"gray\")\n",
    "ax[1].set_title('Gaussian filtering')\n",
    "ax[1].axis('off')\n",
    "ax[2].imshow(image_multiotsu_thresholded[1], cmap=\"gray\")\n",
    "ax[2].set_title('Multi-Otsu thresholding')\n",
    "ax[2].axis('off')\n",
    "plt.show()\n"
   ]
  },
  {
   "cell_type": "code",
   "execution_count": 24,
   "metadata": {},
   "outputs": [
    {
     "data": {
      "image/png": "[encoded data removed]",
      "text/plain": [
       "<Figure size 1000x500 with 3 Axes>"
      ]
     },
     "metadata": {},
     "output_type": "display_data"
    }
   ],
   "source": [
    "#manually changed thresholds \n",
    "image_manually_thresholded=threshold_manual(image_gaussian_filetered,nb_classes=4)\n",
    "\n",
    "\n",
    "fig,ax=plt.subplots(ncols=3, figsize=(10, 5))\n",
    "ax[0].imshow(image, cmap=\"gray\")\n",
    "ax[0].set_title('Original')\n",
    "ax[0].axis('off')\n",
    "ax[1].imshow(image_gaussian_filetered,cmap=\"gray\")\n",
    "ax[1].set_title('Gaussian filtering')\n",
    "ax[1].axis('off')\n",
    "ax[2].imshow(image_manually_thresholded[1],cmap=\"gray\")\n",
    "ax[2].set_title('Manual thresholding')\n",
    "ax[2].axis('off')\n",
    "plt.show()"
   ]
  },
  {
   "cell_type": "code",
   "execution_count": 21,
   "metadata": {},
   "outputs": [
    {
     "data": {
      "text/plain": [
       "{'mitotic index =': 0.1032258064516129,\n",
       " 'number of cells =': 155,\n",
       " 'number of divisions =': 16}"
      ]
     },
     "execution_count": 21,
     "metadata": {},
     "output_type": "execute_result"
    }
   ],
   "source": [
    "###mitotic index \n",
    "mitotic_index(image_gaussian_filetered,image_manually_thresholded[0])"
   ]
  },
  {
   "attachments": {},
   "cell_type": "markdown",
   "metadata": {},
   "source": [
    "With our image analysis count, we find out a mitotic index = 0.10."
   ]
  },
  {
   "attachments": {},
   "cell_type": "markdown",
   "metadata": {},
   "source": [
    "### Output of adenomatous polyp"
   ]
  },
  {
   "cell_type": "code",
   "execution_count": 27,
   "metadata": {},
   "outputs": [
    {
     "data": {
      "image/png": "[encoded data removed]",
      "text/plain": [
       "<Figure size 1000x500 with 3 Axes>"
      ]
     },
     "metadata": {},
     "output_type": "display_data"
    }
   ],
   "source": [
    "image_2=open_in_gray(image_directory,image_name_polip)\n",
    "image_gaussian_filetered_2=gaussian_filtering(image_2,sigma=4)\n",
    "image_manually_thresholded_2=threshold_manual(image_gaussian_filetered_2,nb_classes=4)\n",
    "fig, ax=plt.subplots(ncols=3,figsize=(10, 5))\n",
    "ax[0].imshow(image_2,cmap=\"gray\")\n",
    "ax[0].set_title('Original')\n",
    "ax[0].axis('off')\n",
    "ax[1].imshow(image_gaussian_filetered_2,cmap=\"gray\")\n",
    "ax[1].set_title('Gaussian filtering')\n",
    "ax[1].axis('off')\n",
    "ax[2].imshow(image_manually_thresholded_2[1],cmap=\"gray\")\n",
    "ax[2].set_title('Manual thresholding')\n",
    "ax[2].axis('off')\n",
    "plt.show()"
   ]
  },
  {
   "cell_type": "code",
   "execution_count": 28,
   "metadata": {},
   "outputs": [
    {
     "data": {
      "text/plain": [
       "{'mitotic index =': 0.019736842105263157,\n",
       " 'number of cells =': 304,\n",
       " 'number of divisions =': 6}"
      ]
     },
     "execution_count": 28,
     "metadata": {},
     "output_type": "execute_result"
    }
   ],
   "source": [
    "mitotic_index(image_gaussian_filetered_2,image_manually_thresholded_2[0])"
   ]
  },
  {
   "attachments": {},
   "cell_type": "markdown",
   "metadata": {},
   "source": [
    "For the adenomatous polyp, the mitotic index we found is 10 times smaller than the one we found into the adenocarcinoma image. \n",
    "It seems to be relevant. \n",
    "\n",
    "\n",
    "This model is far from perfect, if we had more time, we would have tried to use an R-CNN model to find the number of mitotic cells instead of this thresholding method. we tried to separate cells but it is very complicated due to the noise and the fact that we do not see clarly the membraneds. We tried to separate the nucleii as well but it is very compliated because their center are not the most constrasted part. "
   ]
  },
  {
   "attachments": {},
   "cell_type": "markdown",
   "metadata": {},
   "source": [
    "# Conclusion"
   ]
  },
  {
   "attachments": {},
   "cell_type": "markdown",
   "metadata": {},
   "source": [
    "To conclude, colon adenocarcinoma is a cancer impacting developed countries, that can afford prevention and screening. The use of image analysis would be relevant for diagnosis and prognosis purposes, and could relieve physicians and even surpass them in these aspects. "
   ]
  }
 ],
 "metadata": {
  "kernelspec": {
   "display_name": "base",
   "language": "python",
   "name": "python3"
  },
  "language_info": {
   "codemirror_mode": {
    "name": "ipython",
    "version": 3
   },
   "file_extension": ".py",
   "mimetype": "text/x-python",
   "name": "python",
   "nbconvert_exporter": "python",
   "pygments_lexer": "ipython3",
   "version": "3.9.7"
  },
  "orig_nbformat": 4,
  "vscode": {
   "interpreter": {
    "hash": "5f7bd9f6353ad27562813860104dd7c9d122aa226b796bd938a56723387b2a94"
   }
  }
 },
 "nbformat": 4,
 "nbformat_minor": 2
}
